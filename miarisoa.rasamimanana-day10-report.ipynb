{
 "cells": [
  {
   "cell_type": "markdown",
   "id": "3cb3144a",
   "metadata": {},
   "source": [
    "### PyPro: Challenge 2"
   ]
  },
  {
   "cell_type": "markdown",
   "id": "52d60863",
   "metadata": {},
   "source": [
    "**Question 1**\n",
    "\n",
    "Level 1\n",
    "\n",
    "Task:\n",
    "Develop a program to find all numbers between 2000 and 3200 (inclusive) that are divisible by 7 but not multiples of 5. Display these numbers as a single line of output, separated by commas."
   ]
  },
  {
   "cell_type": "code",
   "execution_count": 4,
   "id": "7bf064b0",
   "metadata": {},
   "outputs": [
    {
     "name": "stdout",
     "output_type": "stream",
     "text": [
      "2002,2009,2016,2023,2037,2044,2051,2058,2072,2079,2086,2093,2107,2114,2121,2128,2142,2149,2156,2163,2177,2184,2191,2198,2212,2219,2226,2233,2247,2254,2261,2268,2282,2289,2296,2303,2317,2324,2331,2338,2352,2359,2366,2373,2387,2394,2401,2408,2422,2429,2436,2443,2457,2464,2471,2478,2492,2499,2506,2513,2527,2534,2541,2548,2562,2569,2576,2583,2597,2604,2611,2618,2632,2639,2646,2653,2667,2674,2681,2688,2702,2709,2716,2723,2737,2744,2751,2758,2772,2779,2786,2793,2807,2814,2821,2828,2842,2849,2856,2863,2877,2884,2891,2898,2912,2919,2926,2933,2947,2954,2961,2968,2982,2989,2996,3003,3017,3024,3031,3038,3052,3059,3066,3073,3087,3094,3101,3108,3122,3129,3136,3143,3157,3164,3171,3178,3192,3199\n"
     ]
    }
   ],
   "source": [
    "for i in range(2000,3201):\n",
    "    if i%7==0:\n",
    "        if i%5!=0:\n",
    "            if i < 3199:\n",
    "                print(i, end = ',')\n",
    "            else:\n",
    "                print(i)"
   ]
  },
  {
   "cell_type": "markdown",
   "id": "acfe8934",
   "metadata": {},
   "source": [
    "**Question 2**\n",
    "\n",
    "Level 1\n",
    "\n",
    "Task:\n",
    "Create a function that computes the factorial of a specified integer. Display the result in a single line of output. For example, if the input is:\n",
    "8\n",
    "Then, the output should be:\n",
    "40320"
   ]
  },
  {
   "cell_type": "code",
   "execution_count": 2,
   "id": "96c08e0a",
   "metadata": {},
   "outputs": [
    {
     "name": "stdout",
     "output_type": "stream",
     "text": [
      "Enter a number n: 8\n",
      "40320\n"
     ]
    }
   ],
   "source": [
    "def factorial():\n",
    "    n = int(input(\"Enter a number n: \"))\n",
    "    fact = 1\n",
    "    for i in range(1, n+1):\n",
    "        fact = fact * i\n",
    "    return fact\n",
    "\n",
    "fact = factorial()\n",
    "print(fact)"
   ]
  },
  {
   "cell_type": "markdown",
   "id": "e6c2f4a4",
   "metadata": {},
   "source": [
    "**Question 3**\n",
    "\n",
    "Level 1\n",
    "\n",
    "Task:\n",
    "Given an integer n, generate a dictionary with entries (i, i*i) for all integers from 1 to n (inclusive). Print the resulting dictionary. For example, if the input is:\n",
    "8\n",
    "Then, the output should be:\n",
    "{1: 1, 2: 4, 3: 9, 4: 16, 5: 25, 6: 36, 7: 49, 8: 64}"
   ]
  },
  {
   "cell_type": "code",
   "execution_count": 17,
   "id": "5c0edd38",
   "metadata": {},
   "outputs": [
    {
     "name": "stdout",
     "output_type": "stream",
     "text": [
      "Enter a number n: 8\n",
      "{1: 1, 2: 4, 3: 9, 4: 16, 5: 25, 6: 36, 7: 49, 8: 64}\n"
     ]
    }
   ],
   "source": [
    "n = int(input(\"Enter a number n: \"))\n",
    "my_dict = {i:i*i for i in range(1,n+1) }\n",
    "    \n",
    "print(my_dict)"
   ]
  },
  {
   "cell_type": "markdown",
   "id": "f39f1897",
   "metadata": {},
   "source": [
    "**Question 4**\n",
    "\n",
    "Level 1\n",
    "\n",
    "Task:\n",
    "Create a program that reads a series of comma-separated numbers from the console, then generates and prints both a list and a tuple containing those numbers. For example, if the input is:\n",
    "34,67,55,33,12,98\n",
    "The output should be:\n",
    "\n",
    "['34', '67', '55', '33', '12', '98']\n",
    "\n",
    "('34', '67', '55', '33', '12', '98')"
   ]
  },
  {
   "cell_type": "code",
   "execution_count": 34,
   "id": "f7867c8a",
   "metadata": {},
   "outputs": [
    {
     "name": "stdout",
     "output_type": "stream",
     "text": [
      "enter a series of numbers separated by comma: 1,2,3,4,5\n",
      "['1', '2', '3', '4', '5']\n",
      "('1', '2', '3', '4', '5')\n"
     ]
    }
   ],
   "source": [
    "m = input(\"enter a series of numbers separated by comma: \")\n",
    "m_list = m.split(',')\n",
    "m_tuple = tuple(m_list)\n",
    "print(m_list)\n",
    "print(m_tuple)"
   ]
  },
  {
   "cell_type": "markdown",
   "id": "8cfd2cf6",
   "metadata": {},
   "source": [
    "Question 5\n",
    "\n",
    "Level 1\n",
    "\n",
    "Task:\n",
    "Create a class that has two methods:\n",
    "\n",
    "    getString: To accept a string input from the console.\n",
    "    printString: To display the string in uppercase.\n",
    "    Include a simple test function to demonstrate the class methods."
   ]
  },
  {
   "cell_type": "code",
   "execution_count": 62,
   "id": "c23a727f",
   "metadata": {},
   "outputs": [
    {
     "name": "stdout",
     "output_type": "stream",
     "text": [
      "HELLO\n"
     ]
    }
   ],
   "source": [
    "class Myclass:\n",
    "    def getstring(self, s):\n",
    "#         string = input(\"enter a string: \")\n",
    "        self.s = s\n",
    "    def printstring(self):\n",
    "        print(self.s.upper())\n",
    "        \n",
    "a = Myclass()\n",
    "a.getstring('hello')\n",
    "a.printstring()\n"
   ]
  },
  {
   "cell_type": "markdown",
   "id": "8c89bd80",
   "metadata": {},
   "source": [
    "Question 6\n",
    "\n",
    "Level 2\n",
    "\n",
    "Task:\n",
    "Write a program that calculates and prints values based on the formula:\n",
    "$$ Q = \\sqrt{\\frac{2 \\times C \\times D}{H}} $$\n",
    "Here, C and H are fixed constants with values 50 and 30, respectively. D is a variable whose values are input to the program as a comma-separated sequence. For example, if the input is:\n",
    "\n",
    "100,150,180\n",
    "\n",
    "Then, the output should be:\n",
    "\n",
    "18,22,24"
   ]
  },
  {
   "cell_type": "code",
   "execution_count": 92,
   "id": "f83fa1e4",
   "metadata": {
    "scrolled": true
   },
   "outputs": [
    {
     "name": "stdout",
     "output_type": "stream",
     "text": [
      "Enter a series of numbers separated by comma: 100,150,180\n",
      "18,22,24\n"
     ]
    }
   ],
   "source": [
    "import math\n",
    "C = 50\n",
    "H = 30\n",
    "res = []\n",
    "D_serie = input(\"Enter a series of numbers separated by comma: \")\n",
    "D_values = D_serie.split(',')\n",
    "for D in D_values:\n",
    "    Q = math.sqrt((2*C*int(D)/H))\n",
    "    res.append(int(Q))\n",
    "    \n",
    "print(','.join([str(q) for q in res]))\n",
    "      "
   ]
  },
  {
   "cell_type": "markdown",
   "id": "490f3c7c",
   "metadata": {},
   "source": [
    "**Question 7**\n",
    "\n",
    "Level 2\n",
    "\n",
    "Task:\n",
    "Write a program that accepts two numbers, X and Y, as input and generates a 2-dimensional list. The value at the i-th row and j-th column should be the product of i and j. For example, if the input is:\n",
    "3,5\n",
    "\n",
    "The output should be:\n",
    "\n",
    "[[0, 0, 0, 0, 0], [0, 1, 2, 3, 4], [0, 2, 4, 6, 8]]\n"
   ]
  },
  {
   "cell_type": "code",
   "execution_count": 60,
   "id": "0c309920",
   "metadata": {},
   "outputs": [
    {
     "name": "stdout",
     "output_type": "stream",
     "text": [
      "Enter a number X: 3\n",
      "Enter a number Y: 4\n",
      "[[0, 0, 0, 0], [0, 1, 2, 3], [0, 2, 4, 6]]\n"
     ]
    }
   ],
   "source": [
    "X = int(input(\"Enter a number X: \"))\n",
    "Y = int(input(\"Enter a number Y: \"))\n",
    "print([[i*j for j in range(Y)] for i in range(X)])"
   ]
  },
  {
   "cell_type": "markdown",
   "id": "98db56c1",
   "metadata": {},
   "source": [
    "**Question 8**\n",
    "\n",
    "Level 2\n",
    "\n",
    "Task:\n",
    "Write a program that accepts a comma-separated list of words, sorts them alphabetically, and then prints them in a single line, separated by commas. For example, if the input is:\n",
    "without,hello,bag,world\n",
    "\n",
    "The output should be:\n",
    "\n",
    "bag,hello,without,world"
   ]
  },
  {
   "cell_type": "code",
   "execution_count": 61,
   "id": "e99b45de",
   "metadata": {},
   "outputs": [
    {
     "name": "stdout",
     "output_type": "stream",
     "text": [
      "Enter a list of words separated by comma: ok, ko, okbe, kobe\n",
      " ko, kobe, okbe,ok\n"
     ]
    }
   ],
   "source": [
    "list_words = input(\"Enter a list of words separated by comma: \")\n",
    "words = list_words.split(',')\n",
    "words.sort()\n",
    "print(','.join(words))"
   ]
  },
  {
   "cell_type": "markdown",
   "id": "c9375152",
   "metadata": {},
   "source": [
    "**Question 9**\n",
    "\n",
    "Level 2\n",
    "\n",
    "Task:\n",
    "Create a program that reads multiple lines of input and outputs each line with all characters converted to uppercase.\n",
    "\n",
    "For example, if the input is:\n",
    "Hello world\n",
    "Practice makes perfect\n",
    "\n",
    "The output should be:\n",
    "\n",
    "HELLO WORLD\n",
    "\n",
    "PRACTICE MAKES PERFECT"
   ]
  },
  {
   "cell_type": "code",
   "execution_count": 77,
   "id": "7286c27c",
   "metadata": {},
   "outputs": [],
   "source": [
    "def multiple(lines):\n",
    "    return lines.upper()"
   ]
  },
  {
   "cell_type": "code",
   "execution_count": 78,
   "id": "8392995c",
   "metadata": {},
   "outputs": [
    {
     "name": "stdout",
     "output_type": "stream",
     "text": [
      "HELLO WORD\n",
      "PRACTICE MAKES PERFECT\n"
     ]
    }
   ],
   "source": [
    "lines = \"\"\"hello word\n",
    "Practice makes perfect\"\"\"\n",
    "result=multiple(lines)\n",
    "print(result)"
   ]
  },
  {
   "cell_type": "markdown",
   "id": "17123d4d",
   "metadata": {},
   "source": [
    "Question 10\n",
    "\n",
    "Level 2\n",
    "\n",
    "Task:\n",
    "Write a program that reads a sequence of whitespace-separated words, removes all duplicate words, sorts them alphanumerically, and then prints the resulting words. \n",
    "For example, if the input is:\n",
    "hello world and practice makes perfect and hello world again\n",
    "\n",
    "The output should be:\n",
    "again and hello makes perfect practice world"
   ]
  },
  {
   "cell_type": "code",
   "execution_count": 82,
   "id": "4e988385",
   "metadata": {},
   "outputs": [
    {
     "name": "stdout",
     "output_type": "stream",
     "text": [
      "Enter a sequence of whitespace-separated words: hello world and practice makes perfect and hello world again\n",
      "again and hello makes perfect practice world\n"
     ]
    }
   ],
   "source": [
    "sentence = input(\"Enter a sequence of whitespace-separated words: \")\n",
    "list_sentence = sentence.split()\n",
    "words = []\n",
    "for word in list_sentence:\n",
    "    if word not in words:\n",
    "        words.append(word)\n",
    "words.sort()\n",
    "print(' '.join(words))"
   ]
  },
  {
   "cell_type": "markdown",
   "id": "342b2547",
   "metadata": {},
   "source": [
    "**Question 11**\n",
    "\n",
    "Level 2\n",
    "\n",
    "Task:\n",
    "Create a program that takes a sequence of 4-digit binary numbers, checks which ones are divisible by 5, and prints them as a comma-separated sequence.\n",
    "For example, if the input is:\n",
    "`0100,0011,1010,1001`\n",
    "\n",
    "The output should be:\n",
    "\n",
    "`1010`\n",
    "\n",
    "Note: Assume the input is provided through the console.\n"
   ]
  },
  {
   "cell_type": "code",
   "execution_count": 85,
   "id": "bd86fec6",
   "metadata": {},
   "outputs": [
    {
     "name": "stdout",
     "output_type": "stream",
     "text": [
      "enter a sequence of binary numbers separated by comma: 0100,0011,1010,1001\n",
      "1010\n"
     ]
    }
   ],
   "source": [
    "seq_binary = input(\"enter a sequence of binary numbers separated by comma: \")\n",
    "lis_binary = seq_binary.split(',')\n",
    "result = []\n",
    "for binary in lis_binary:\n",
    "    decimal = int(binary,2)\n",
    "    if decimal%5==0:\n",
    "        result.append(binary)\n",
    "print(' '.join(result))"
   ]
  },
  {
   "cell_type": "markdown",
   "id": "1efd77a8",
   "metadata": {},
   "source": [
    "**Question 12**\n",
    "\n",
    "Level 2\n",
    "\n",
    "Task:\n",
    "Develop a program that finds all numbers between 1000 and 3000 (inclusive) where each digit is an even number. Print the results as a comma-separated sequence in a single line."
   ]
  },
  {
   "cell_type": "code",
   "execution_count": 114,
   "id": "76c01caf",
   "metadata": {},
   "outputs": [
    {
     "name": "stdout",
     "output_type": "stream",
     "text": [
      "2000,2002,2004,2006,2008,2020,2022,2024,2026,2028,2040,2042,2044,2046,2048,2060,2062,2064,2066,2068,2080,2082,2084,2086,2088,2200,2202,2204,2206,2208,2220,2222,2224,2226,2228,2240,2242,2244,2246,2248,2260,2262,2264,2266,2268,2280,2282,2284,2286,2288,2400,2402,2404,2406,2408,2420,2422,2424,2426,2428,2440,2442,2444,2446,2448,2460,2462,2464,2466,2468,2480,2482,2484,2486,2488,2600,2602,2604,2606,2608,2620,2622,2624,2626,2628,2640,2642,2644,2646,2648,2660,2662,2664,2666,2668,2680,2682,2684,2686,2688,2800,2802,2804,2806,2808,2820,2822,2824,2826,2828,2840,2842,2844,2846,2848,2860,2862,2864,2866,2868,2880,2882,2884,2886,2888,"
     ]
    }
   ],
   "source": [
    "for i in range(1000,3001):\n",
    "    result = []\n",
    "    for j in str(i):\n",
    "        if int(j)%2 == 0:\n",
    "            result.append(j)\n",
    "            \n",
    "    if len(result)==4:\n",
    "        print(\"\".join(result) , end=',')"
   ]
  },
  {
   "cell_type": "markdown",
   "id": "03a22355",
   "metadata": {},
   "source": [
    "Question 13\n",
    "\n",
    "Level 2\n",
    "\n",
    "Task:\n",
    "Write a program that counts the number of letters and digits in a given sentence.\n",
    "\n",
    "For example, if the input is:\n",
    "hello world! 123\n",
    "\n",
    "The output should be:\n",
    "LETTERS 10\n",
    "DIGITS 3"
   ]
  },
  {
   "cell_type": "code",
   "execution_count": 118,
   "id": "55970c32",
   "metadata": {},
   "outputs": [
    {
     "name": "stdout",
     "output_type": "stream",
     "text": [
      "enter a sentence: la vie est epuisante 34535iw2\n",
      "Letter=19\n",
      "Digit=6\n"
     ]
    }
   ],
   "source": [
    "def count(sentence):\n",
    "    count_letter = 0\n",
    "    count_digit = 0\n",
    "    for i in sentence:\n",
    "        if i.isalpha():\n",
    "            count_letter = count_letter+1\n",
    "        if i.isdigit():\n",
    "            count_digit=count_digit+1\n",
    "    print(f\"Letter={count_letter}\")\n",
    "    print(f\"Digit={count_digit}\")\n",
    "sentence = input(\"enter a sentence: \")\n",
    "result=count(sentence)"
   ]
  },
  {
   "cell_type": "markdown",
   "id": "88cbbcb6",
   "metadata": {},
   "source": [
    "**Question 14**\n",
    "\n",
    "Level 2\n",
    "\n",
    "Task:\n",
    "Create a program that counts and prints the number of uppercase and lowercase letters in a given sentence. For example, if the input is:\n",
    "Hello world!\n",
    "\n",
    "The output should be:\n",
    "\n",
    "UPPER CASE 1\n",
    "LOWER CASE 9\n"
   ]
  },
  {
   "cell_type": "code",
   "execution_count": 119,
   "id": "c364194a",
   "metadata": {},
   "outputs": [
    {
     "name": "stdout",
     "output_type": "stream",
     "text": [
      "enter a sentence: RERAKA be Zah\n",
      "UPPER CASe=7\n",
      "LOWER CASE=4\n"
     ]
    }
   ],
   "source": [
    "def count(sentence):\n",
    "    count_upper = 0\n",
    "    count_lower = 0\n",
    "    for i in sentence:\n",
    "        if i.isupper():\n",
    "            count_upper = count_upper+1\n",
    "        elif i.islower():\n",
    "            count_lower=count_lower+1\n",
    "    print(f\"UPPER CASe={count_upper}\")\n",
    "    print(f\"LOWER CASE={count_lower}\")\n",
    "sentence = input(\"enter a sentence: \")\n",
    "result=count(sentence)"
   ]
  },
  {
   "cell_type": "markdown",
   "id": "dc10de86",
   "metadata": {},
   "source": [
    "**Question 15**\n",
    "\n",
    "Level 2\n",
    "\n",
    "Task:\n",
    "Write a program that calculates the value of a + aa + aaa + aaaa given a digit as the value of a. For example, if the input is:\n",
    "9\n",
    "The output should be:\n",
    "11106"
   ]
  },
  {
   "cell_type": "code",
   "execution_count": 120,
   "id": "4fa58bad",
   "metadata": {},
   "outputs": [
    {
     "name": "stdout",
     "output_type": "stream",
     "text": [
      "enter a number a: 9\n",
      "value=11106\n"
     ]
    }
   ],
   "source": [
    "a = input(\"enter a number a: \")\n",
    "aa =int(a*2)\n",
    "aaa=int(a*3)\n",
    "aaaa=int(a*4)\n",
    "value = int(a)+aa+aaa+aaaa\n",
    "print(f\"value={value}\")"
   ]
  },
  {
   "cell_type": "markdown",
   "id": "e68b5e56",
   "metadata": {},
   "source": [
    "**Question 16**\n",
    "\n",
    "Level 2\n",
    "\n",
    "Task:\n",
    "Use a list comprehension to generate a list of squares for each odd number in a given sequence of comma-separated values.\n",
    "\n",
    "For example, if the input is:\n",
    "1,2,3,4,5,6,7,8,9\n",
    "\n",
    "The output should be:\n",
    "1,3,5,7,9"
   ]
  },
  {
   "cell_type": "code",
   "execution_count": 126,
   "id": "4113f5b3",
   "metadata": {},
   "outputs": [
    {
     "name": "stdout",
     "output_type": "stream",
     "text": [
      "Enter a sequence of values separated by comma:1,2,3,4,5,6,7,8,9\n",
      "1,3,5,7,9,"
     ]
    }
   ],
   "source": [
    "seq_number=input(\"Enter a sequence of values separated by comma:\")\n",
    "numbers=[]\n",
    "result=[]\n",
    "lis_number=seq_number.split(',')\n",
    "for i in lis_number:\n",
    "    a = int(i)\n",
    "    numbers.append(a)\n",
    "for x in numbers:\n",
    "    if x%2!=0:\n",
    "        print(x, end=',')\n",
    "        "
   ]
  }
 ],
 "metadata": {
  "kernelspec": {
   "display_name": "Python 3",
   "language": "python",
   "name": "python3"
  },
  "language_info": {
   "codemirror_mode": {
    "name": "ipython",
    "version": 3
   },
   "file_extension": ".py",
   "mimetype": "text/x-python",
   "name": "python",
   "nbconvert_exporter": "python",
   "pygments_lexer": "ipython3",
   "version": "3.9.2"
  }
 },
 "nbformat": 4,
 "nbformat_minor": 5
}
