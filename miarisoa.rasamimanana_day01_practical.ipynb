{
 "cells": [
  {
   "cell_type": "code",
   "execution_count": 1,
   "id": "a0bb7c87",
   "metadata": {},
   "outputs": [
    {
     "name": "stdout",
     "output_type": "stream",
     "text": [
      "10\n"
     ]
    }
   ],
   "source": [
    "#exercice 1\n",
    "x = 10\n",
    "print(x)"
   ]
  },
  {
   "cell_type": "code",
   "execution_count": 2,
   "id": "aff6772c",
   "metadata": {},
   "outputs": [
    {
     "name": "stdout",
     "output_type": "stream",
     "text": [
      "True\n"
     ]
    }
   ],
   "source": [
    "#exercice 2\n",
    "is_valid = 'True'\n",
    "print(is_valid)"
   ]
  },
  {
   "cell_type": "code",
   "execution_count": 4,
   "id": "8a6f1fc7",
   "metadata": {},
   "outputs": [
    {
     "name": "stdout",
     "output_type": "stream",
     "text": [
      "Python programming\n"
     ]
    }
   ],
   "source": [
    "# exercice 3\n",
    "name = \"Python programming\"\n",
    "print(name)"
   ]
  },
  {
   "cell_type": "code",
   "execution_count": 3,
   "id": "4ff8e746",
   "metadata": {},
   "outputs": [
    {
     "name": "stdout",
     "output_type": "stream",
     "text": [
      "8\n"
     ]
    }
   ],
   "source": [
    "#exercice 4\n",
    "x = 5\n",
    "y = 3\n",
    "sum_result = x + y\n",
    "print(sum_result)"
   ]
  },
  {
   "cell_type": "code",
   "execution_count": 5,
   "id": "a201455a",
   "metadata": {},
   "outputs": [
    {
     "name": "stdout",
     "output_type": "stream",
     "text": [
      "5 10 15\n"
     ]
    }
   ],
   "source": [
    "#exercice 5\n",
    "a, b, c = 5, 10, 15\n",
    "print(a, b, c)"
   ]
  },
  {
   "cell_type": "code",
   "execution_count": 6,
   "id": "eedc62cb",
   "metadata": {},
   "outputs": [
    {
     "name": "stdout",
     "output_type": "stream",
     "text": [
      "5\n"
     ]
    }
   ],
   "source": [
    "#exercice 6\n",
    "x = 5\n",
    "y = x\n",
    "print(y)"
   ]
  },
  {
   "cell_type": "code",
   "execution_count": 7,
   "id": "2ff1e375",
   "metadata": {},
   "outputs": [
    {
     "name": "stdout",
     "output_type": "stream",
     "text": [
      "9.8\n"
     ]
    }
   ],
   "source": [
    "# exercice 7\n",
    "gravity = 9.8\n",
    "print(gravity)"
   ]
  },
  {
   "cell_type": "code",
   "execution_count": 8,
   "id": "5838ac73",
   "metadata": {},
   "outputs": [
    {
     "name": "stdout",
     "output_type": "stream",
     "text": [
      "Madagascar\n"
     ]
    }
   ],
   "source": [
    "#exercice 8 \n",
    "country = 'Madagascar'\n",
    "print(country)"
   ]
  },
  {
   "cell_type": "code",
   "execution_count": 9,
   "id": "4cf374e6",
   "metadata": {},
   "outputs": [
    {
     "name": "stdout",
     "output_type": "stream",
     "text": [
      "26\n"
     ]
    }
   ],
   "source": [
    "#exercice 9\n",
    "age = 25\n",
    "y = 26\n",
    "age = y\n",
    "print(age)"
   ]
  },
  {
   "cell_type": "code",
   "execution_count": 10,
   "id": "de14bf06",
   "metadata": {},
   "outputs": [
    {
     "name": "stdout",
     "output_type": "stream",
     "text": [
      "13\n"
     ]
    }
   ],
   "source": [
    "#exercice 10\n",
    "x = 20\n",
    "y = 7\n",
    "z = x - y\n",
    "print(z)"
   ]
  },
  {
   "cell_type": "code",
   "execution_count": 11,
   "id": "73c03b4a",
   "metadata": {},
   "outputs": [
    {
     "name": "stdout",
     "output_type": "stream",
     "text": [
      "5 5.0\n"
     ]
    }
   ],
   "source": [
    "#exercice 11\n",
    "integer = int(5)\n",
    "floating = float(5)\n",
    "print(integer, floating)"
   ]
  },
  {
   "cell_type": "code",
   "execution_count": 71,
   "id": "15c2449a",
   "metadata": {},
   "outputs": [
    {
     "name": "stdout",
     "output_type": "stream",
     "text": [
      "False\n"
     ]
    }
   ],
   "source": [
    "#exercice 12\n",
    "is_completed = False\n",
    "print(is_completed)"
   ]
  },
  {
   "cell_type": "code",
   "execution_count": 14,
   "id": "da734508",
   "metadata": {},
   "outputs": [
    {
     "name": "stdout",
     "output_type": "stream",
     "text": [
      "4 5\n"
     ]
    }
   ],
   "source": [
    "#exercice 14\n",
    "x = 5\n",
    "y = 4\n",
    "x, y = y, x\n",
    "print(x,y)"
   ]
  },
  {
   "cell_type": "code",
   "execution_count": 15,
   "id": "fa00ef3b",
   "metadata": {},
   "outputs": [
    {
     "name": "stdout",
     "output_type": "stream",
     "text": [
      "(3+4j)\n"
     ]
    }
   ],
   "source": [
    "#exercice 15\n",
    "complex_num = complex(3 + 4j)\n",
    "print(complex_num)"
   ]
  },
  {
   "cell_type": "code",
   "execution_count": 17,
   "id": "76197593",
   "metadata": {},
   "outputs": [
    {
     "name": "stdout",
     "output_type": "stream",
     "text": [
      "5 <class 'str'>\n"
     ]
    }
   ],
   "source": [
    "#exercie 16\n",
    "x = int(5)\n",
    "y = str(x)\n",
    "print(y, type(y))"
   ]
  },
  {
   "cell_type": "code",
   "execution_count": 18,
   "id": "c60136ad",
   "metadata": {},
   "outputs": [
    {
     "name": "stdout",
     "output_type": "stream",
     "text": [
      "Miarisoa Rasamimanana\n"
     ]
    }
   ],
   "source": [
    "#exercice 17\n",
    "first_name = 'Miarisoa'\n",
    "last_name = 'Rasamimanana'\n",
    "print(first_name, last_name)"
   ]
  },
  {
   "cell_type": "code",
   "execution_count": 20,
   "id": "e8834abe",
   "metadata": {},
   "outputs": [
    {
     "name": "stdout",
     "output_type": "stream",
     "text": [
      "35.5\n"
     ]
    }
   ],
   "source": [
    "#exercie 18\n",
    "temperature = 35.5\n",
    "print(temperature)"
   ]
  },
  {
   "cell_type": "code",
   "execution_count": 21,
   "id": "845d0352",
   "metadata": {},
   "outputs": [
    {
     "name": "stdout",
     "output_type": "stream",
     "text": [
      "48\n"
     ]
    }
   ],
   "source": [
    "#exercice 19\n",
    "x = 8\n",
    "y = 6\n",
    "product = x*y\n",
    "print(product)"
   ]
  },
  {
   "cell_type": "code",
   "execution_count": 22,
   "id": "bc4d92d0",
   "metadata": {},
   "outputs": [
    {
     "name": "stdout",
     "output_type": "stream",
     "text": [
      "This is my python code\n"
     ]
    }
   ],
   "source": [
    "#exercice 20\n",
    "sentence = \"This is my python code\"\n",
    "print(sentence)"
   ]
  },
  {
   "cell_type": "code",
   "execution_count": 23,
   "id": "ea859235",
   "metadata": {},
   "outputs": [
    {
     "name": "stdout",
     "output_type": "stream",
     "text": [
      "50\n"
     ]
    }
   ],
   "source": [
    "#exercice 21\n",
    "x = '50'\n",
    "int_value = int(x)\n",
    "print(int_value)"
   ]
  },
  {
   "cell_type": "code",
   "execution_count": 24,
   "id": "3879be95",
   "metadata": {},
   "outputs": [
    {
     "name": "stdout",
     "output_type": "stream",
     "text": [
      "12.0\n"
     ]
    }
   ],
   "source": [
    "#exercice 22\n",
    "x = 144\n",
    "y = 12\n",
    "quotient = x/y\n",
    "print(quotient)"
   ]
  },
  {
   "cell_type": "code",
   "execution_count": 25,
   "id": "a2e81d9b",
   "metadata": {},
   "outputs": [
    {
     "name": "stdout",
     "output_type": "stream",
     "text": [
      "2\n"
     ]
    }
   ],
   "source": [
    "#exercie 23\n",
    "x = 47\n",
    "y = 5\n",
    "remainder = x % y\n",
    "print(remainder)"
   ]
  },
  {
   "cell_type": "code",
   "execution_count": 26,
   "id": "06a43751",
   "metadata": {},
   "outputs": [
    {
     "name": "stdout",
     "output_type": "stream",
     "text": [
      "True\n"
     ]
    }
   ],
   "source": [
    "#exercice 24\n",
    "is_student = True\n",
    "print(is_student)"
   ]
  },
  {
   "cell_type": "code",
   "execution_count": 28,
   "id": "576b7dcd",
   "metadata": {},
   "outputs": [
    {
     "name": "stdout",
     "output_type": "stream",
     "text": [
      "1\n"
     ]
    }
   ],
   "source": [
    "#exercice 25\n",
    "x = 45\n",
    "y = 4\n",
    "modulo = x % y\n",
    "print(modulo)"
   ]
  },
  {
   "cell_type": "code",
   "execution_count": 29,
   "id": "bd8f8a7a",
   "metadata": {},
   "outputs": [
    {
     "name": "stdout",
     "output_type": "stream",
     "text": [
      "3.14159\n"
     ]
    }
   ],
   "source": [
    "#exercice 26\n",
    "pi = 3.14159\n",
    "\n",
    "print(pi)"
   ]
  },
  {
   "cell_type": "code",
   "execution_count": 30,
   "id": "64388ae3",
   "metadata": {},
   "outputs": [
    {
     "name": "stdout",
     "output_type": "stream",
     "text": [
      "24\n"
     ]
    }
   ],
   "source": [
    "# exercice 27\n",
    "length = 4\n",
    "width = 6\n",
    "area = length * width\n",
    "print(area)"
   ]
  },
  {
   "cell_type": "code",
   "execution_count": 31,
   "id": "cca2242b",
   "metadata": {},
   "outputs": [
    {
     "name": "stdout",
     "output_type": "stream",
     "text": [
      "\"Hello, World!\"\n"
     ]
    }
   ],
   "source": [
    "#exercice 28\n",
    "greetings = '''\"Hello, World!\"'''\n",
    "print(greetings)"
   ]
  },
  {
   "cell_type": "code",
   "execution_count": 34,
   "id": "d559da8a",
   "metadata": {},
   "outputs": [
    {
     "name": "stdout",
     "output_type": "stream",
     "text": [
      "100000000000000\n"
     ]
    }
   ],
   "source": [
    "#exercice 29\n",
    "population = 100000000000000\n",
    "print(population)"
   ]
  },
  {
   "cell_type": "code",
   "execution_count": 35,
   "id": "c1023034",
   "metadata": {},
   "outputs": [
    {
     "name": "stdout",
     "output_type": "stream",
     "text": [
      "256\n"
     ]
    }
   ],
   "source": [
    "#exercice 30\n",
    "x = 2\n",
    "y = 8\n",
    "power = x**y\n",
    "print(power)"
   ]
  },
  {
   "cell_type": "code",
   "execution_count": 37,
   "id": "d9182ecc",
   "metadata": {},
   "outputs": [
    {
     "name": "stdout",
     "output_type": "stream",
     "text": [
      "['banana', 'watermelon', 'orange']\n"
     ]
    }
   ],
   "source": [
    "#exercice 31\n",
    "fruits = ['banana', 'watermelon', 'orange']\n",
    "print(fruits)"
   ]
  },
  {
   "cell_type": "code",
   "execution_count": 38,
   "id": "51d92598",
   "metadata": {},
   "outputs": [
    {
     "name": "stdout",
     "output_type": "stream",
     "text": [
      "(4, 5, 8)\n"
     ]
    }
   ],
   "source": [
    "#exercice 32\n",
    "coordinates = (4, 5, 8)\n",
    "print(coordinates)"
   ]
  },
  {
   "cell_type": "code",
   "execution_count": 39,
   "id": "3a375c98",
   "metadata": {},
   "outputs": [
    {
     "name": "stdout",
     "output_type": "stream",
     "text": [
      "{'name': 'Miarisoa', 'age': 22}\n"
     ]
    }
   ],
   "source": [
    "#exercice 33\n",
    "person = {'name': 'Miarisoa', 'age': 22}\n",
    "print(person)"
   ]
  },
  {
   "cell_type": "code",
   "execution_count": 40,
   "id": "d9ae3162",
   "metadata": {},
   "outputs": [
    {
     "name": "stdout",
     "output_type": "stream",
     "text": [
      "9.0\n"
     ]
    }
   ],
   "source": [
    "#exercice 34\n",
    "x = 4.\n",
    "y= 5.\n",
    "sum_float = x + y\n",
    "print(sum_float)"
   ]
  },
  {
   "cell_type": "code",
   "execution_count": 41,
   "id": "2101629b",
   "metadata": {},
   "outputs": [
    {
     "name": "stdout",
     "output_type": "stream",
     "text": [
      "True\n"
     ]
    }
   ],
   "source": [
    "#exercice 35\n",
    "x = 10\n",
    "y = 5\n",
    "is_sunny = x>y\n",
    "print(is_sunny)"
   ]
  },
  {
   "cell_type": "code",
   "execution_count": 42,
   "id": "0b2fabc8",
   "metadata": {},
   "outputs": [
    {
     "name": "stdout",
     "output_type": "stream",
     "text": [
      "miah 21\n"
     ]
    }
   ],
   "source": [
    "#exercice 36\n",
    "name = 'miah'\n",
    "age = 21\n",
    "print(name, age)"
   ]
  },
  {
   "cell_type": "code",
   "execution_count": 47,
   "id": "b662e770",
   "metadata": {},
   "outputs": [
    {
     "data": {
      "text/plain": [
       "False"
      ]
     },
     "execution_count": 47,
     "metadata": {},
     "output_type": "execute_result"
    }
   ],
   "source": [
    "#exercice 37\n",
    "x = 4\n",
    "x == 5"
   ]
  },
  {
   "cell_type": "code",
   "execution_count": 48,
   "id": "4d88febb",
   "metadata": {},
   "outputs": [
    {
     "name": "stdout",
     "output_type": "stream",
     "text": [
      "False\n"
     ]
    }
   ],
   "source": [
    "#exercice 38\n",
    "is_weekend = False\n",
    "print(is_weekend)"
   ]
  },
  {
   "cell_type": "code",
   "execution_count": 49,
   "id": "a087c823",
   "metadata": {},
   "outputs": [
    {
     "name": "stdout",
     "output_type": "stream",
     "text": [
      "ok\n",
      "ok\n"
     ]
    }
   ],
   "source": [
    "#exercice 39\n",
    "description = '''ok\n",
    "ok'''\n",
    "print(description)"
   ]
  },
  {
   "cell_type": "code",
   "execution_count": 51,
   "id": "d1fe33f3",
   "metadata": {},
   "outputs": [
    {
     "name": "stdout",
     "output_type": "stream",
     "text": [
      "25\n"
     ]
    }
   ],
   "source": [
    "#exercice 40\n",
    "x = -25\n",
    "absolute = abs(x)\n",
    "print(absolute)"
   ]
  },
  {
   "cell_type": "code",
   "execution_count": 53,
   "id": "546f765e",
   "metadata": {},
   "outputs": [
    {
     "name": "stdout",
     "output_type": "stream",
     "text": [
      "16\n"
     ]
    }
   ],
   "source": [
    "#exercice 41\n",
    "x = 100\n",
    "y = 6\n",
    "floor_div_result = x // y\n",
    "print(floor_div_result)"
   ]
  },
  {
   "cell_type": "code",
   "execution_count": 54,
   "id": "b1ca0040",
   "metadata": {},
   "outputs": [
    {
     "name": "stdout",
     "output_type": "stream",
     "text": [
      "10.0\n"
     ]
    }
   ],
   "source": [
    "#exercice 42\n",
    "x = 4\n",
    "y = 6.\n",
    "mixed_sum = x + y\n",
    "print(mixed_sum)"
   ]
  },
  {
   "cell_type": "code",
   "execution_count": 57,
   "id": "1b66f227",
   "metadata": {},
   "outputs": [
    {
     "name": "stdout",
     "output_type": "stream",
     "text": [
      "I am 21 years old\n"
     ]
    }
   ],
   "source": [
    "#exercice 43\n",
    "name = \"I am \" + str(21) + \" years old\"\n",
    "print(name)"
   ]
  },
  {
   "cell_type": "code",
   "execution_count": 58,
   "id": "fa97ef9f",
   "metadata": {},
   "outputs": [
    {
     "name": "stdout",
     "output_type": "stream",
     "text": [
      "[]\n"
     ]
    }
   ],
   "source": [
    "#exercice 44\n",
    "empty_list = []\n",
    "print(empty_list)"
   ]
  },
  {
   "cell_type": "code",
   "execution_count": 59,
   "id": "8c101afc",
   "metadata": {},
   "outputs": [
    {
     "data": {
      "text/plain": [
       "False"
      ]
     },
     "execution_count": 59,
     "metadata": {},
     "output_type": "execute_result"
    }
   ],
   "source": [
    "#exercice 45\n",
    "a = 10\n",
    "b = 15\n",
    "a == b"
   ]
  },
  {
   "cell_type": "code",
   "execution_count": 60,
   "id": "be63b2bf",
   "metadata": {},
   "outputs": [
    {
     "data": {
      "text/plain": [
       "15"
      ]
     },
     "execution_count": 60,
     "metadata": {},
     "output_type": "execute_result"
    }
   ],
   "source": [
    "#exercice 46\n",
    "sentence = \"my name is miah\"\n",
    "len(sentence)"
   ]
  },
  {
   "cell_type": "code",
   "execution_count": 61,
   "id": "c7390c9e",
   "metadata": {},
   "outputs": [
    {
     "name": "stdout",
     "output_type": "stream",
     "text": [
      "2.3333333333333335\n"
     ]
    }
   ],
   "source": [
    "#exercice 47\n",
    "x = 7\n",
    "y = 3\n",
    "division_result = x/y\n",
    "print(division_result)"
   ]
  },
  {
   "cell_type": "code",
   "execution_count": 67,
   "id": "a0fda58b",
   "metadata": {},
   "outputs": [
    {
     "name": "stdout",
     "output_type": "stream",
     "text": [
      "100km per hour\n"
     ]
    }
   ],
   "source": [
    "#exercice 48\n",
    "speed = str(100) + \"km per hour\"\n",
    "print(speed)"
   ]
  },
  {
   "cell_type": "code",
   "execution_count": 68,
   "id": "7ecdb570",
   "metadata": {},
   "outputs": [
    {
     "name": "stdout",
     "output_type": "stream",
     "text": [
      "17\n"
     ]
    }
   ],
   "source": [
    "#exercice 49\n",
    "x = 4\n",
    "y = 3*x +5\n",
    "print(y)"
   ]
  },
  {
   "cell_type": "code",
   "execution_count": 69,
   "id": "d35fbb9e",
   "metadata": {},
   "outputs": [
    {
     "name": "stdout",
     "output_type": "stream",
     "text": [
      "6.0\n"
     ]
    }
   ],
   "source": [
    "#exercice 50\n",
    "x = 5\n",
    "y = 6\n",
    "z = 7\n",
    "average = (x + y + z)/3\n",
    "print(average)"
   ]
  }
 ],
 "metadata": {
  "kernelspec": {
   "display_name": "Python 3 (ipykernel)",
   "language": "python",
   "name": "python3"
  },
  "language_info": {
   "codemirror_mode": {
    "name": "ipython",
    "version": 3
   },
   "file_extension": ".py",
   "mimetype": "text/x-python",
   "name": "python",
   "nbconvert_exporter": "python",
   "pygments_lexer": "ipython3",
   "version": "3.11.2"
  }
 },
 "nbformat": 4,
 "nbformat_minor": 5
}
