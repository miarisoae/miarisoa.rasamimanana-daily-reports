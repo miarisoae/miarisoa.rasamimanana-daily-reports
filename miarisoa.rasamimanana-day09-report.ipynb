{
 "cells": [
  {
   "cell_type": "markdown",
   "id": "679ca74a",
   "metadata": {},
   "source": [
    "## PyPro: challenge 1"
   ]
  },
  {
   "cell_type": "markdown",
   "id": "124bbe51",
   "metadata": {},
   "source": [
    "1. Create a function find_max() that accepts two numeric inputs and returns the greater value. Avoid using the built-in max() function."
   ]
  },
  {
   "cell_type": "code",
   "execution_count": 8,
   "id": "3c4bea60",
   "metadata": {},
   "outputs": [
    {
     "name": "stdout",
     "output_type": "stream",
     "text": [
      "enter a value a: 4\n",
      "enter a value b: 5\n",
      "5.0 is greater than 4.0\n"
     ]
    }
   ],
   "source": [
    "def find_max(a, b):\n",
    "    if a < b:\n",
    "        print(b, 'is greater than', a)\n",
    "    elif a == b:\n",
    "        print(b, 'is equal to', a)\n",
    "    else:\n",
    "        print(a, 'is greater than', b)\n",
    "\n",
    "x = float(input(\"enter a value a: \"))\n",
    "y = float(input(\"enter a value b: \"))\n",
    "find_max(x, y)"
   ]
  },
  {
   "cell_type": "markdown",
   "id": "886b9672",
   "metadata": {},
   "source": [
    "2. Develop a function find_max_of_three() to find the maximum among three given numbers."
   ]
  },
  {
   "cell_type": "code",
   "execution_count": 7,
   "id": "f63739ed",
   "metadata": {},
   "outputs": [
    {
     "name": "stdout",
     "output_type": "stream",
     "text": [
      "enter a value a: 5\n",
      "enter a value b: 5\n",
      "enter a value c: 6\n",
      "6.0 is the maximum among the three numbers\n"
     ]
    }
   ],
   "source": [
    "def find_max_of_three(a, b, c):\n",
    "    if a <= b:\n",
    "        if b <= c:\n",
    "            print(c, 'is the maximum among the three numbers')\n",
    "        elif c <= b:\n",
    "            print(b, 'is the maximum among the three numbers')\n",
    "        elif c <= a:\n",
    "            print(a, 'is the maximum among the three')\n",
    "\n",
    "                \n",
    "x = float(input(\"enter a value a: \"))\n",
    "y = float(input(\"enter a value b: \"))\n",
    "z = float(input(\"enter a value c: \"))\n",
    "find_max_of_three(x, y, z)"
   ]
  },
  {
   "cell_type": "markdown",
   "id": "3a425635",
   "metadata": {},
   "source": [
    "3. Write a function to manually calculate the length of a given list or string without using len()."
   ]
  },
  {
   "cell_type": "code",
   "execution_count": 31,
   "id": "775c0900",
   "metadata": {},
   "outputs": [
    {
     "name": "stdout",
     "output_type": "stream",
     "text": [
      "10\n",
      "2\n"
     ]
    }
   ],
   "source": [
    "def length(string):\n",
    "    ln = 0\n",
    "    for letter in string:\n",
    "        ln += 1\n",
    "    print(ln)\n",
    "List = ['ok', 'ok']  \n",
    "string = 'calculates'\n",
    "length(string)\n",
    "length(List)"
   ]
  },
  {
   "cell_type": "markdown",
   "id": "d58bd4d9",
   "metadata": {},
   "source": [
    "4. Implement a function that checks if a given character is a vowel (a, e, i, o, u)."
   ]
  },
  {
   "cell_type": "code",
   "execution_count": 36,
   "id": "a80b9ead",
   "metadata": {},
   "outputs": [
    {
     "name": "stdout",
     "output_type": "stream",
     "text": [
      "enter a letter that you want to check: r\n",
      "r is not a vowel\n"
     ]
    },
    {
     "data": {
      "text/plain": [
       "False"
      ]
     },
     "execution_count": 36,
     "metadata": {},
     "output_type": "execute_result"
    }
   ],
   "source": [
    "def check(vowel):\n",
    "    List = ['a', 'e', 'i', 'o', 'u']\n",
    "    if vowel in List:\n",
    "        print(vowel, 'is a vowel')\n",
    "        return True\n",
    "    else:\n",
    "        print(vowel, 'is not a vowel')\n",
    "        return False\n",
    "\n",
    "vowel = input(\"enter a letter that you want to check: \")\n",
    "check(vowel)"
   ]
  },
  {
   "cell_type": "markdown",
   "id": "193e90af",
   "metadata": {},
   "source": [
    "5. Write a function encode() that converts a string into \"rövarspråket\" (robber's language) by doubling consonants and placing \"o\" in between, e.g., \"hello\" -> \"hohelollolo\".\n",
    "\n"
   ]
  },
  {
   "cell_type": "code",
   "execution_count": 73,
   "id": "a1e30e9a",
   "metadata": {},
   "outputs": [
    {
     "data": {
      "text/plain": [
       "'hohelollolo'"
      ]
     },
     "execution_count": 73,
     "metadata": {},
     "output_type": "execute_result"
    }
   ],
   "source": [
    "def encode(string):\n",
    "    List = ['a', 'e', 'i', 'o', 'u']\n",
    "    temp = ''\n",
    "    for letter in string:\n",
    "        if letter not in List:            \n",
    "            temp = temp + letter + 'o' + letter             \n",
    "        else:\n",
    "            temp2 = temp + letter\n",
    "            temp = temp2\n",
    "    return temp\n",
    "\n",
    "string = 'hello'\n",
    "encode(string)"
   ]
  },
  {
   "cell_type": "markdown",
   "id": "2ca52e38",
   "metadata": {},
   "source": [
    "6. Create sum_elements() and product_elements() functions to sum and multiply all elements in a list, respectively."
   ]
  },
  {
   "cell_type": "code",
   "execution_count": 77,
   "id": "081da680",
   "metadata": {},
   "outputs": [
    {
     "data": {
      "text/plain": [
       "(15, 120)"
      ]
     },
     "execution_count": 77,
     "metadata": {},
     "output_type": "execute_result"
    }
   ],
   "source": [
    "def sum_elements(lst):\n",
    "    sum_ = 0\n",
    "    for element in lst:\n",
    "        sum_ += element\n",
    "    return sum_\n",
    "\n",
    "def product_elements(lst):\n",
    "    prod = 1\n",
    "    for element in lst:\n",
    "        prod *= element\n",
    "        \n",
    "    return prod\n",
    "\n",
    "sum_elements([1, 2, 3, 4, 5]), product_elements([1, 2, 3, 4, 5])"
   ]
  },
  {
   "cell_type": "markdown",
   "id": "b62a5df4",
   "metadata": {},
   "source": [
    "7. Define a function reverse_string() to reverse the characters in a given string."
   ]
  },
  {
   "cell_type": "code",
   "execution_count": 2,
   "id": "5bd40141",
   "metadata": {},
   "outputs": [
    {
     "name": "stdout",
     "output_type": "stream",
     "text": [
      "enter a string:12345\n",
      "54321\n"
     ]
    }
   ],
   "source": [
    "def reverse_string(string):\n",
    "    reverse = string[::-1]\n",
    "    print(reverse)\n",
    "\n",
    "string = input(\"enter a string:\")\n",
    "reverse_string(string)"
   ]
  },
  {
   "cell_type": "markdown",
   "id": "5c7a5664",
   "metadata": {},
   "source": [
    "8. Implement check_palindrome() to verify if a string reads the same forwards and backwards, i.e. is a palindrome.\n"
   ]
  },
  {
   "cell_type": "code",
   "execution_count": 5,
   "id": "603884bc",
   "metadata": {},
   "outputs": [
    {
     "name": "stdout",
     "output_type": "stream",
     "text": [
      "enter a string:rotator\n"
     ]
    },
    {
     "data": {
      "text/plain": [
       "True"
      ]
     },
     "execution_count": 5,
     "metadata": {},
     "output_type": "execute_result"
    }
   ],
   "source": [
    "import math\n",
    "def check_palindrome(string):\n",
    "    length = len(string)\n",
    "    a = math.floor(length / 2)\n",
    "    b = string[0:a]\n",
    "    c = string[a+1:]\n",
    "    d = c[::-1]\n",
    "    if b == d:\n",
    "        return True\n",
    "    else:\n",
    "        return False\n",
    "string = input(\"enter a string:\")\n",
    "check_palindrome(string)"
   ]
  },
  {
   "cell_type": "markdown",
   "id": "6760a102",
   "metadata": {},
   "source": [
    "9. Develop a function check_membership() to determine if a value exists within a list."
   ]
  },
  {
   "cell_type": "code",
   "execution_count": 7,
   "id": "172733e3",
   "metadata": {},
   "outputs": [
    {
     "name": "stdout",
     "output_type": "stream",
     "text": [
      "enter a member:mia\n"
     ]
    },
    {
     "data": {
      "text/plain": [
       "True"
      ]
     },
     "execution_count": 7,
     "metadata": {},
     "output_type": "execute_result"
    }
   ],
   "source": [
    "def check_membership(member):\n",
    "    List = ['mi','mia','miari','soa']\n",
    "    if member in List:\n",
    "        return True\n",
    "    else:\n",
    "        return False\n",
    "member = input(\"enter a member:\")\n",
    "check_membership(member)"
   ]
  },
  {
   "cell_type": "markdown",
   "id": "23e0445c",
   "metadata": {},
   "source": [
    "10. Write check_overlap() to identify if two lists share any elements."
   ]
  },
  {
   "cell_type": "code",
   "execution_count": 10,
   "id": "0c033231",
   "metadata": {},
   "outputs": [
    {
     "data": {
      "text/plain": [
       "False"
      ]
     },
     "execution_count": 10,
     "metadata": {},
     "output_type": "execute_result"
    }
   ],
   "source": [
    "def check_overlap(List1, List2):\n",
    "    i = 0\n",
    "    j = 0\n",
    "    if List1[i] == List2[j]:\n",
    "        return True\n",
    "    else:\n",
    "        return False\n",
    "List1 = ['mi','mia','miari','soa']\n",
    "List2 = ['m', 'tsi','tsiky']\n",
    "check_overlap(List1, List2)"
   ]
  },
  {
   "cell_type": "markdown",
   "id": "bd42e133",
   "metadata": {},
   "source": [
    "11. Implement repeat_char() that generates a string with a specified character repeated n times."
   ]
  },
  {
   "cell_type": "code",
   "execution_count": 35,
   "id": "b2adcfb6",
   "metadata": {
    "scrolled": false
   },
   "outputs": [
    {
     "name": "stdout",
     "output_type": "stream",
     "text": [
      "enter a string: miarisoa\n",
      "enter a char: h\n",
      "there is no h in miarisoa\n"
     ]
    }
   ],
   "source": [
    "def repeat_char(string, char):\n",
    "    if char in string:\n",
    "        i = string.count(char)\n",
    "        print(f\"{char} = {i} times\")              \n",
    "    else:\n",
    "        print(f\"there is no {char} in {string}\")\n",
    "        \n",
    "string = input(\"enter a string: \")\n",
    "char = input('enter a char: ')\n",
    "repeat_char(string, char)"
   ]
  },
  {
   "cell_type": "markdown",
   "id": "fcb73e47",
   "metadata": {},
   "source": [
    "12. Create a function print_histogram() that takes a list of integers and prints a corresponding histogram."
   ]
  },
  {
   "cell_type": "code",
   "execution_count": 30,
   "id": "dfb9b6a0",
   "metadata": {},
   "outputs": [
    {
     "name": "stdout",
     "output_type": "stream",
     "text": [
      "=\n",
      "====\n",
      "==\n",
      "=====\n",
      "=========\n"
     ]
    }
   ],
   "source": [
    "def print_histogram(List):\n",
    "    for n in List:\n",
    "        h = '='*n\n",
    "        print(h)\n",
    "        \n",
    "List = [1,4,2,5,9]\n",
    "print_histogram(List)"
   ]
  },
  {
   "cell_type": "markdown",
   "id": "a4854b9f",
   "metadata": {},
   "source": [
    "13. Write find_max_in_list() to identify the largest number in a list of arbitrary length."
   ]
  },
  {
   "cell_type": "code",
   "execution_count": 43,
   "id": "f658138f",
   "metadata": {},
   "outputs": [
    {
     "name": "stdout",
     "output_type": "stream",
     "text": [
      "the maximum value in the [1, 2, 3, 8, 9, 5, 4] is 4\n"
     ]
    }
   ],
   "source": [
    "def find_max_in_list(List):\n",
    "    maxim = List[0]\n",
    "    for i in List:\n",
    "        if i > maxim :\n",
    "            maxim = i\n",
    "    print(f\"the maximum value in the {List} is {i}\")\n",
    "List = [1,2,3,8,9,5,4]\n",
    "find_max_in_list(List)        "
   ]
  },
  {
   "cell_type": "markdown",
   "id": "1a98a556",
   "metadata": {},
   "source": [
    "14. Create a program that maps each word in a list to its length."
   ]
  },
  {
   "cell_type": "markdown",
   "id": "d274277b",
   "metadata": {},
   "source": [
    "15. Implement longest_word() to find the longest word in a list."
   ]
  },
  {
   "cell_type": "code",
   "execution_count": 44,
   "id": "4a2247d1",
   "metadata": {},
   "outputs": [
    {
     "name": "stdout",
     "output_type": "stream",
     "text": [
      "the longest word in the list is 5\n"
     ]
    }
   ],
   "source": [
    "def longest_word(List):\n",
    "    count = []\n",
    "    for i in List:\n",
    "        count.append(len(i))\n",
    "        long = max(count)\n",
    "    print(f\"the longest word in the list is {long}\")\n",
    "List = ['mi','mia','miari','soa']\n",
    "longest_word(List)"
   ]
  },
  {
   "cell_type": "markdown",
   "id": "4f728398",
   "metadata": {},
   "source": [
    "16. Develop filter_words() to return words longer than a specified length from a list."
   ]
  },
  {
   "cell_type": "code",
   "execution_count": 47,
   "id": "485cb3f6",
   "metadata": {},
   "outputs": [
    {
     "name": "stdout",
     "output_type": "stream",
     "text": [
      "enter the word that you want:4\n",
      "miari is longer than 4\n"
     ]
    }
   ],
   "source": [
    "def filter_words(length,List):\n",
    "    for i in List:\n",
    "        if len(i) > length:\n",
    "            print(f\"{i} is longer than {length}\")\n",
    "\n",
    "length = int(input(\"enter the word that you want:\"))\n",
    "List = ['mi','mia','miari','soa']\n",
    "filter_words(length,List)"
   ]
  },
  {
   "cell_type": "markdown",
   "id": "8443de51",
   "metadata": {},
   "source": [
    "### Modules"
   ]
  },
  {
   "cell_type": "code",
   "execution_count": 48,
   "id": "8ec0837e",
   "metadata": {},
   "outputs": [],
   "source": [
    "from monpackage import mesfonctions"
   ]
  },
  {
   "cell_type": "code",
   "execution_count": 49,
   "id": "7ee18137",
   "metadata": {},
   "outputs": [
    {
     "data": {
      "text/plain": [
       "True"
      ]
     },
     "execution_count": 49,
     "metadata": {},
     "output_type": "execute_result"
    }
   ],
   "source": [
    "mesfonctions.additionner(23,89) == 112 "
   ]
  },
  {
   "cell_type": "code",
   "execution_count": 50,
   "id": "5f0bbe99",
   "metadata": {},
   "outputs": [],
   "source": [
    "from monpackage import mesattributs"
   ]
  },
  {
   "cell_type": "code",
   "execution_count": 51,
   "id": "87dfc3da",
   "metadata": {},
   "outputs": [
    {
     "data": {
      "text/plain": [
       "True"
      ]
     },
     "execution_count": 51,
     "metadata": {},
     "output_type": "execute_result"
    }
   ],
   "source": [
    "mesattributs.x == 100 "
   ]
  },
  {
   "cell_type": "code",
   "execution_count": 52,
   "id": "bad16a32",
   "metadata": {},
   "outputs": [
    {
     "name": "stdout",
     "output_type": "stream",
     "text": [
      "Hello, Mia!\n",
      "12\n"
     ]
    }
   ],
   "source": [
    "import myprogram\n",
    "\n",
    "print(myprogram.greet(\"Mia\")) \n",
    "print(myprogram.add(5, 7)) "
   ]
  }
 ],
 "metadata": {
  "kernelspec": {
   "display_name": "Python 3",
   "language": "python",
   "name": "python3"
  },
  "language_info": {
   "codemirror_mode": {
    "name": "ipython",
    "version": 3
   },
   "file_extension": ".py",
   "mimetype": "text/x-python",
   "name": "python",
   "nbconvert_exporter": "python",
   "pygments_lexer": "ipython3",
   "version": "3.9.2"
  }
 },
 "nbformat": 4,
 "nbformat_minor": 5
}
