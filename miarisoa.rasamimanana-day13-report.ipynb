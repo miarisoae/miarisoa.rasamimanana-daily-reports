{
 "cells": [
  {
   "cell_type": "markdown",
   "id": "a9b44527",
   "metadata": {},
   "source": [
    "# PyPro: Challenge 3\n",
    "## Miarisoa Elalie Rasamimanana"
   ]
  },
  {
   "cell_type": "markdown",
   "id": "e134d288",
   "metadata": {},
   "source": [
    "1. **Perfect Numbers Calculation**\n",
    "By definition, a natural number is called a perfect number if its value is equal to the sum of its divisors. For example, 6 and 28 are perfect numbers:\n",
    "\n",
    "$1 + 2 + 3 = 6$\n",
    "\n",
    "$1 + 2 + 4 + 7 + 14 = 28$\n",
    "\n",
    "Write a function calc_perfect_numbers(max_exclusive) that calculates all perfect numbers up to a maximum value, such as 10,000.\n"
   ]
  },
  {
   "cell_type": "code",
   "execution_count": 141,
   "id": "e4556266",
   "metadata": {},
   "outputs": [],
   "source": [
    "def is_perfect_numbers(n) :\n",
    "    d=0\n",
    "    for i in range(1,n+1):        \n",
    "        if n%i==0:\n",
    "            d = d+i\n",
    "            if n==d:\n",
    "                return True\n",
    "    else:\n",
    "            return False"
   ]
  },
  {
   "cell_type": "code",
   "execution_count": 142,
   "id": "83710b00",
   "metadata": {},
   "outputs": [
    {
     "name": "stdout",
     "output_type": "stream",
     "text": [
      "[1, 6, 24, 28, 496]\n"
     ]
    }
   ],
   "source": [
    "def calc_perfect_numbers(max_exclusive):\n",
    "    perfect_numbers=[]\n",
    "    for j in range(1,max_exclusive+1):\n",
    "        if is_perfect_numbers(j):\n",
    "            perfect_numbers.append(j)\n",
    "            perfect_numbers\n",
    "        else:\n",
    "            perfect_numbers\n",
    "    print(perfect_numbers)\n",
    "result = calc_perfect_numbers(1000)\n",
    "result"
   ]
  },
  {
   "cell_type": "markdown",
   "id": "70c9a86b",
   "metadata": {},
   "source": [
    "2. **Prime Numbers Calculation**\n",
    "\n",
    "Write a function calc_primes_up_to(max_value) to compute all prime numbers up to a given value.\n",
    "\n",
    "A prime number is a natural number greater than 1 that is only divisible by 1 and itself. The Sieve of Eratosthenes is a useful algorithm for this task.\n",
    "\n",
    "Test your algorithm with the following values:\n",
    "\n",
    "\n",
    "| Input | Result | |-------|---------------------------------------------| | 15 | [2, 3, 5, 7, 11, 13] | | 25 | [2, 3, 5, 7, 11, 13, 17, 19, 23] | | 50 | [2, 3, 5, 7, 11, 13, 17, 19, 23, 29, 31...] |\n"
   ]
  },
  {
   "cell_type": "markdown",
   "id": "601b7e44",
   "metadata": {},
   "source": [
    "algorithm Sieve of Eratosthenes is\n",
    "    input: an integer n > 1.\n",
    "    output: all prime numbers from 2 through n.\n",
    "\n",
    "    let A be an array of Boolean values, indexed by integers 2 to n,\n",
    "    initially all set to true.\n",
    "    \n",
    "    for i = 2, 3, 4, ..., not exceeding √n do\n",
    "        if A[i] is true\n",
    "            for j = i2, i2+i, i2+2i, i2+3i, ..., not exceeding n do\n",
    "                set A[j] := false\n",
    "\n",
    "    return all i such that A[i] is true."
   ]
  },
  {
   "cell_type": "code",
   "execution_count": 109,
   "id": "1698a592",
   "metadata": {},
   "outputs": [
    {
     "data": {
      "text/plain": [
       "[2, 3, 5, 7, 11, 13]"
      ]
     },
     "execution_count": 109,
     "metadata": {},
     "output_type": "execute_result"
    }
   ],
   "source": [
    "def calc_primes_up_to(n):\n",
    "    prime_list = []\n",
    "    prime=[]\n",
    "    for i in range(2, n+1):\n",
    "        if i not in prime_list:\n",
    "            prime.append(i)\n",
    "            for j in range(i*i, n+1, i):\n",
    "                prime_list.append(j)\n",
    "    return prime\n",
    "\n",
    "calc_primes_up_to(15)\n",
    "  "
   ]
  },
  {
   "cell_type": "code",
   "execution_count": 140,
   "id": "f1d81fa5",
   "metadata": {},
   "outputs": [
    {
     "data": {
      "text/plain": [
       "[2, 3, 5, 7, 11, 13, 17, 19, 23]"
      ]
     },
     "execution_count": 140,
     "metadata": {},
     "output_type": "execute_result"
    }
   ],
   "source": [
    "calc_primes_up_to(25)"
   ]
  },
  {
   "cell_type": "code",
   "execution_count": 111,
   "id": "07832397",
   "metadata": {},
   "outputs": [
    {
     "data": {
      "text/plain": [
       "[2, 3, 5, 7, 11, 13, 17, 19, 23, 29, 31, 37, 41, 43, 47]"
      ]
     },
     "execution_count": 111,
     "metadata": {},
     "output_type": "execute_result"
    }
   ],
   "source": [
    "calc_primes_up_to(50) "
   ]
  },
  {
   "cell_type": "markdown",
   "id": "04a96a64",
   "metadata": {},
   "source": [
    "3. **Twin, Cousin, and Sexy Prime Numbers**\n",
    "\n",
    "Compute all pairs of prime numbers with a distance of 2 (twin), 4 (cousin), and 6 (sexy) up to an upper bound n.\n",
    "For example, for limit=50, the expected results are:\n",
    "\n",
    "    Twins: {3: 5, 5: 7, 11: 13, 17: 19, 29: 31, 41: 43}\n",
    "    \n",
    "    Cousins: {3: 7, 7: 11, 13: 17, 19: 23, 37: 41, 43: 47}\n",
    "    \n",
    "    Sexy: {5: 11, 7: 13, 11: 17, 13: 19, 17: 23, 23: 29, 31: 37, 37: 43, 41: 47, 47: 53}\n",
    "\n"
   ]
  },
  {
   "cell_type": "code",
   "execution_count": 133,
   "id": "11dbc593",
   "metadata": {},
   "outputs": [
    {
     "name": "stdout",
     "output_type": "stream",
     "text": [
      "twin: {3: 5, 5: 7, 11: 13, 17: 19, 29: 31, 41: 43}\n",
      "cousin: {3: 7, 7: 11, 13: 17, 19: 23, 37: 41, 43: 47}\n",
      "sexy: {5: 11, 7: 13, 11: 17, 13: 19, 17: 23, 23: 29, 31: 37, 37: 43, 41: 47}\n"
     ]
    }
   ],
   "source": [
    "def pairs_of_prime(n):\n",
    "    primes = calc_primes_up_to(n)    \n",
    "    twins = {}\n",
    "    for i in range(len(primes)-1):\n",
    "        if primes[i+1] - primes[i] == 2:\n",
    "            twins[primes[i]] = primes[i+1]\n",
    "    print(f\"twin: {twins}\")\n",
    "    \n",
    "    cousins = {}\n",
    "    for i in range(len(primes)):\n",
    "        for j in range(i+1, len(primes)):\n",
    "            if primes[j] - primes[i] == 4:\n",
    "                cousins[primes[i]] = primes[j]\n",
    "    print(f\"cousin: {cousins}\")\n",
    "    \n",
    "    sexies = {}\n",
    "    for i in range(len(primes)):\n",
    "        for j in range(i+1, len(primes)):\n",
    "            if primes[j] - primes[i] == 6:\n",
    "                sexies[primes[i]] = primes[j]\n",
    "    print(f\"sexy: {sexies}\")\n",
    "pairs_of_prime(50)"
   ]
  },
  {
   "cell_type": "markdown",
   "id": "badcb340",
   "metadata": {},
   "source": [
    "4. **Sum of Digits (Recursive)**\n",
    "\n",
    "Write a recursive function calc_sum_of_digits(value) that calculates the sum of the digits of a given number.\n",
    "Examples:\n",
    "\n",
    "\n",
    "| Input | Number of Digits | Cross Sum | |--------|------------------|-------------------| | 1234 | 4 | 1 + 2 + 3 + 4 = 10| | 1234567| 7 | 1 + 2 + 3 + ... 7 = 28|\n"
   ]
  },
  {
   "cell_type": "code",
   "execution_count": 136,
   "id": "ee657c71",
   "metadata": {},
   "outputs": [
    {
     "data": {
      "text/plain": [
       "10"
      ]
     },
     "execution_count": 136,
     "metadata": {},
     "output_type": "execute_result"
    }
   ],
   "source": [
    "def calc_sum_of_digits(value):\n",
    "    if value == 0:\n",
    "        return 0\n",
    "    else:\n",
    "        last_digit = value % 10\n",
    "        remaining_value = value // 10\n",
    "        return last_digit + calc_sum_of_digits(remaining_value)\n",
    "calc_sum_of_digits(1234)        \n",
    "        "
   ]
  },
  {
   "cell_type": "code",
   "execution_count": 138,
   "id": "5b064762",
   "metadata": {},
   "outputs": [
    {
     "data": {
      "text/plain": [
       "28"
      ]
     },
     "execution_count": 138,
     "metadata": {},
     "output_type": "execute_result"
    }
   ],
   "source": [
    "calc_sum_of_digits(1234567)"
   ]
  },
  {
   "cell_type": "code",
   "execution_count": 139,
   "id": "2a68a6b9",
   "metadata": {},
   "outputs": [
    {
     "data": {
      "text/plain": [
       "21"
      ]
     },
     "execution_count": 139,
     "metadata": {},
     "output_type": "execute_result"
    }
   ],
   "source": [
    "calc_sum_of_digits(74127) "
   ]
  },
  {
   "cell_type": "markdown",
   "id": "25f7ebf3",
   "metadata": {},
   "source": [
    "5. **Convert to Binary (Recursive)**\n",
    "\n",
    "Write a function to_binary(n) that recursively converts the given positive integer into its binary string representation (without using int(x, base)).\n",
    "\n",
    "Examples:\n",
    "\n",
    "| Input | Result | |-------|--------------| | 5 | \"101\" | | 7 | \"111\" | | 22 | \"10110\" | | 42 | \"101010\" | | 256 | \"100000000\" |\n"
   ]
  }
 ],
 "metadata": {
  "kernelspec": {
   "display_name": "Python 3",
   "language": "python",
   "name": "python3"
  },
  "language_info": {
   "codemirror_mode": {
    "name": "ipython",
    "version": 3
   },
   "file_extension": ".py",
   "mimetype": "text/x-python",
   "name": "python",
   "nbconvert_exporter": "python",
   "pygments_lexer": "ipython3",
   "version": "3.9.2"
  }
 },
 "nbformat": 4,
 "nbformat_minor": 5
}
