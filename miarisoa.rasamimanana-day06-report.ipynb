{
 "cells": [
  {
   "cell_type": "markdown",
   "id": "d3c4952e",
   "metadata": {},
   "source": [
    "1. Compute the following expressions for a natural number n chosen by the user:"
   ]
  },
  {
   "cell_type": "code",
   "execution_count": 173,
   "id": "d4d412ea",
   "metadata": {},
   "outputs": [
    {
     "name": "stdout",
     "output_type": "stream",
     "text": [
      "Enter an natural number:10\n",
      "sum of odd number:  40\n",
      "product of even number:  10395\n"
     ]
    }
   ],
   "source": [
    "n = int(input(\"Enter an natural number:\"))\n",
    "s = 0\n",
    "p = 1\n",
    "for i in range(0,n):\n",
    "    if i % 2 != 0 :\n",
    "        s = s + i + 3\n",
    "    else:\n",
    "        p = p * (i + 3)         \n",
    "print(\"sum of odd number: \", s)\n",
    "print(\"product of even number: \", p)\n"
   ]
  },
  {
   "cell_type": "markdown",
   "id": "f8a30099",
   "metadata": {},
   "source": [
    "2. Write a program that reads the number of the day of the week (from 0 to 6). If it is a\n",
    "working day, then the program will write the name of the corresponding day. Otherwise,\n",
    "it will write the word \"Weekend\"."
   ]
  },
  {
   "cell_type": "code",
   "execution_count": 66,
   "id": "7e83a246",
   "metadata": {},
   "outputs": [
    {
     "name": "stdout",
     "output_type": "stream",
     "text": [
      "enter a number of a day3\n",
      "it is a working day\n",
      "3 is wednesday\n"
     ]
    }
   ],
   "source": [
    "i = int(input(\"enter a number of a day\"))\n",
    "if (i>=0 and i <= 6 ):\n",
    "    if i != 0 and i != 6:\n",
    "        print('it is a working day')\n",
    "        if i == 1:\n",
    "            print(i, 'is monday')\n",
    "        elif i == 2:\n",
    "            print(i, 'is tuesday')\n",
    "        elif i == 3:\n",
    "            print(i, 'is wednesday')\n",
    "        elif i == 4:\n",
    "            print(i, 'is thursday')\n",
    "        elif i == 5:\n",
    "            print(i, 'is friday')\n",
    "    else:\n",
    "        print('it is a weekend')\n",
    "\n",
    "else:\n",
    "    print('enter a number from 0 to 6')\n",
    "\n"
   ]
  },
  {
   "cell_type": "markdown",
   "id": "e74ac6e3",
   "metadata": {},
   "source": [
    "3. Make a program that, given a month number (from 0 to 11), indicates how many days it\n",
    "has (28, 30 or 31), ignoring the leap years."
   ]
  },
  {
   "cell_type": "code",
   "execution_count": 67,
   "id": "eef43d22",
   "metadata": {},
   "outputs": [
    {
     "name": "stdout",
     "output_type": "stream",
     "text": [
      "enter a number of month2\n",
      "march has 30 days\n"
     ]
    }
   ],
   "source": [
    "m = int(input(\"enter a number of month\"))\n",
    "if (i>=0 and i<=11):\n",
    "    if m == 0:\n",
    "        print('january has 31 days')\n",
    "    elif m == 1:\n",
    "        print('february has 28 days')\n",
    "    elif m == 2:\n",
    "        print('march has 30 days')\n",
    "    elif m == 3:\n",
    "        print('april has 31 days')\n",
    "    elif m == 4:\n",
    "        print('may has 30 days')\n",
    "    elif m == 5:\n",
    "        print('june has 31 days')\n",
    "    elif m == 6:\n",
    "        print('july has 30 days')\n",
    "    elif m == 7:\n",
    "        print('august has 31 days')\n",
    "    elif m == 8:\n",
    "        print('september has 30 days')\n",
    "    elif m == 9:\n",
    "        print('october has 31 days')\n",
    "    elif m == 10:\n",
    "        print('november has 30 days')\n",
    "    elif m == 11:\n",
    "        print('december has 31 days')\n",
    "else :\n",
    "    print('enter a number from 0 to 11')\n"
   ]
  },
  {
   "cell_type": "markdown",
   "id": "b3e42b22",
   "metadata": {},
   "source": [
    "4. Write two versions of python code that displays your name 3 times. One version with a\n",
    "\"for loop\" and another version with a \"while loop\"."
   ]
  },
  {
   "cell_type": "code",
   "execution_count": 68,
   "id": "e852af93",
   "metadata": {},
   "outputs": [
    {
     "name": "stdout",
     "output_type": "stream",
     "text": [
      "miarisoa\n",
      "miarisoa\n",
      "miarisoa\n"
     ]
    }
   ],
   "source": [
    "for i in range(3):\n",
    "    print('miarisoa')"
   ]
  },
  {
   "cell_type": "code",
   "execution_count": 72,
   "id": "e49789d2",
   "metadata": {},
   "outputs": [
    {
     "name": "stdout",
     "output_type": "stream",
     "text": [
      "miarisoa\n",
      "miarisoa\n",
      "miarisoa\n"
     ]
    }
   ],
   "source": [
    "i = 0\n",
    "while i < 3:\n",
    "    print('miarisoa')\n",
    "    i= i+1"
   ]
  },
  {
   "cell_type": "markdown",
   "id": "42e2e0e2",
   "metadata": {},
   "source": [
    "5. Given two numbers $a_0$ and $a_1$, the Fibonacci sequence they generate is constructed from\n",
    "the recursion formula $a_{n+1} = a_n + a_{n−1}$. Calculate the first 15 terms of a Fibonacci\n",
    "sequence, asking the user the initial values."
   ]
  },
  {
   "cell_type": "code",
   "execution_count": 98,
   "id": "856ab2c4",
   "metadata": {},
   "outputs": [
    {
     "name": "stdout",
     "output_type": "stream",
     "text": [
      "enter a number for a_i: 1\n",
      "enter a number for a_j: 1\n",
      "1 1 2 3 5 8 13 21 34 55 89 144 233 377 610 987 "
     ]
    }
   ],
   "source": [
    "a_0 = int(input(\"enter a number for a_i: \"))\n",
    "a_1 = int(input(\"enter a number for a_j: \"))\n",
    "print(a_0, a_1, end = ' ')\n",
    "for n in range(14):\n",
    "    a_2 = a_0 + a_1\n",
    "    a_0 = a_1\n",
    "    a_1 = a_2\n",
    "    print(a_2, end=' ')\n"
   ]
  },
  {
   "cell_type": "markdown",
   "id": "bbadb317",
   "metadata": {},
   "source": [
    "6. Compute the first 30 terms of the sequence defined by $2x_{n+2} − x_{n+1} − 6x_n = 0$ sequence,\n",
    "given any two initial values $x_0$ and $x_1$"
   ]
  },
  {
   "cell_type": "code",
   "execution_count": 85,
   "id": "544f5b7d",
   "metadata": {},
   "outputs": [
    {
     "name": "stdout",
     "output_type": "stream",
     "text": [
      "enter a number for a_i: 0\n",
      "enter a number for a_j: 1\n",
      "0 1 0.5 3.25 3.125 11.3125 15.03125 41.453125 65.8203125 157.26953125 276.095703125 609.8564453125 1133.21533203125 2396.177001953125 4597.7344970703125 9487.398254394531 18536.902618408203 37730.646072387695 74476.03089141846 150429.9536628723 298643.0695056915 600611.3957414627 1196234.906387806 2399951.640418291 4788680.539372563 9594195.190941155 19163139.213588268 38364155.1796176 76671495.2305736 153428213.15413958 306728592.2687906 "
     ]
    }
   ],
   "source": [
    "x_0 = int(input(\"enter a number for a_i: \"))\n",
    "x_1 = int(input(\"enter a number for a_j: \"))\n",
    "print(x_0, x_1, end = ' ')\n",
    "for n in range(29):\n",
    "    x_2 = (1/2) * x_1 + 3 * x_0\n",
    "    x_0 = x_1\n",
    "    x_1 = x_2\n",
    "    print(x_2, end = ' ')"
   ]
  },
  {
   "cell_type": "markdown",
   "id": "44dc1e27",
   "metadata": {},
   "source": [
    "7. a) Write python code to determine whether or not a year is a leap year. Be sure you\n",
    "know what a leap year is."
   ]
  },
  {
   "cell_type": "code",
   "execution_count": 90,
   "id": "ed2dd159",
   "metadata": {},
   "outputs": [
    {
     "name": "stdout",
     "output_type": "stream",
     "text": [
      "enter an year:200\n",
      "200 is not leap\n"
     ]
    }
   ],
   "source": [
    "years = int(input(\"enter an year:\"))\n",
    "if years % 4 == 0:\n",
    "    if years % 100 != 0:\n",
    "        print(years, 'is leap year')\n",
    "    else:\n",
    "        print(years, 'is not leap')\n",
    "elif years % 400 == 0:\n",
    "    print(years, 'is leap year')\n",
    "else:\n",
    "    print(years, 'is not leap')"
   ]
  },
  {
   "cell_type": "markdown",
   "id": "14ec478c",
   "metadata": {},
   "source": [
    "b) Write the code using only logical operators, i.e. no conditional branching."
   ]
  },
  {
   "cell_type": "code",
   "execution_count": 93,
   "id": "a592ccbe",
   "metadata": {},
   "outputs": [
    {
     "name": "stdout",
     "output_type": "stream",
     "text": [
      "enter an year:2024\n",
      "True\n"
     ]
    }
   ],
   "source": [
    "years = int(input(\"enter an year:\"))\n",
    "print((years % 4 == 0 and years % 100 != 0) or (years % 400 == 0) )"
   ]
  },
  {
   "cell_type": "markdown",
   "id": "154f0c9e",
   "metadata": {},
   "source": [
    "8. a) Write python code that computes the sum of the square of the first n natural numbers.\n",
    "One version with a \"for loop\" and another version with a \"while loop\"."
   ]
  },
  {
   "cell_type": "code",
   "execution_count": 176,
   "id": "8e5100d7",
   "metadata": {},
   "outputs": [
    {
     "name": "stdout",
     "output_type": "stream",
     "text": [
      "enter n:5\n",
      "55\n"
     ]
    }
   ],
   "source": [
    "n = int(input(\"enter n:\"))\n",
    "s = 0\n",
    "for i in range(n+1):\n",
    "    s =  s + i**2\n",
    "print(s)"
   ]
  },
  {
   "cell_type": "code",
   "execution_count": 124,
   "id": "d543d7e4",
   "metadata": {},
   "outputs": [
    {
     "name": "stdout",
     "output_type": "stream",
     "text": [
      "enter r:5\n",
      "55\n"
     ]
    }
   ],
   "source": [
    "r = int(input(\"enter r:\"))\n",
    "m = 0\n",
    "j = 0\n",
    "while (j < (r+1)):\n",
    "    m = m + j**2\n",
    "    j = j + 1\n",
    "print(m)\n",
    "    "
   ]
  },
  {
   "cell_type": "markdown",
   "id": "086f2398",
   "metadata": {},
   "source": [
    "b) Write python code that prints, for a natural number M, the smallest natural number\n",
    "n such that $1^2 + 2^2 + \\cdots +n^2 ≥ M$. One version with a \"for loop\" and another version with a \"while loop\"."
   ]
  },
  {
   "cell_type": "code",
   "execution_count": 121,
   "id": "d98476c9",
   "metadata": {},
   "outputs": [
    {
     "name": "stdout",
     "output_type": "stream",
     "text": [
      "enter t:7\n",
      "3\n"
     ]
    }
   ],
   "source": [
    "t = int(input(\"enter t:\"))\n",
    "s = 0 \n",
    "for i in range(n+1):\n",
    "    s =  s + i**2\n",
    "    if (s>=t):\n",
    "        break\n",
    "print(i)"
   ]
  },
  {
   "cell_type": "code",
   "execution_count": 131,
   "id": "1d21bf45",
   "metadata": {},
   "outputs": [
    {
     "name": "stdout",
     "output_type": "stream",
     "text": [
      "Enter a number:7\n",
      "3\n"
     ]
    }
   ],
   "source": [
    "r = int(input(\"Enter a number:\"))\n",
    "m = 0\n",
    "j = 0\n",
    "while (j < (r+1)):\n",
    "    j = j + 1\n",
    "    m = m + j**2    \n",
    "    if (m >= r):\n",
    "        break\n",
    "print(j)"
   ]
  },
  {
   "cell_type": "markdown",
   "id": "a9d47ca5",
   "metadata": {},
   "source": [
    "9. a) Write python code that prints all the divisors of a given natural number."
   ]
  },
  {
   "cell_type": "code",
   "execution_count": 169,
   "id": "4df61b1d",
   "metadata": {},
   "outputs": [
    {
     "name": "stdout",
     "output_type": "stream",
     "text": [
      "enter a natural number :15\n",
      "1 3 5 "
     ]
    }
   ],
   "source": [
    "M = int(input(\"enter a natural number :\"))\n",
    "for i in range(1,M):\n",
    "    if M % i == 0 :\n",
    "        print(i, end = ' ')"
   ]
  },
  {
   "cell_type": "markdown",
   "id": "eee0ec39",
   "metadata": {},
   "source": [
    "b) Read an integer number input by the user and calculate its prime factors. This will\n",
    "just be some of its divisors."
   ]
  },
  {
   "cell_type": "code",
   "execution_count": 163,
   "id": "c52a95f0",
   "metadata": {},
   "outputs": [
    {
     "name": "stdout",
     "output_type": "stream",
     "text": [
      "enter a natural number: 100\n",
      "2\n",
      "5\n"
     ]
    }
   ],
   "source": [
    "N = int(input(\"enter a natural number: \"))\n",
    "List=[]\n",
    "for i in range(2,N):\n",
    "    if N% i == 0 :\n",
    "        List.append(i)\n",
    "for j in List:\n",
    "    for k in range(2,j):\n",
    "        if j%k==0:\n",
    "            break\n",
    "    else:\n",
    "        print(j)\n",
    "        "
   ]
  },
  {
   "cell_type": "markdown",
   "id": "a3fefb1f",
   "metadata": {},
   "source": [
    "10. Read an integer number between n 0 and 9 and print its multiplication table up to N\n",
    "where N is another another natural number read by the program."
   ]
  },
  {
   "cell_type": "code",
   "execution_count": 179,
   "id": "9c3cfbb0",
   "metadata": {},
   "outputs": [
    {
     "name": "stdout",
     "output_type": "stream",
     "text": [
      "enter a number n: 5\n",
      "enter a number N: 7\n",
      "5 x 0 = 0\n",
      "5 x 1 = 5\n",
      "5 x 2 = 10\n",
      "5 x 3 = 15\n",
      "5 x 4 = 20\n",
      "5 x 5 = 25\n",
      "5 x 6 = 30\n",
      "5 x 7 = 35\n"
     ]
    }
   ],
   "source": [
    "n = int(input(\"enter a number n: \"))\n",
    "N = int(input(\"enter a number N: \"))\n",
    "M = 0\n",
    "if 0 <= n <= 9:\n",
    "    for i in range (N+1):\n",
    "        M = n * i\n",
    "        print(n, 'x', i, '=', M)\n",
    "else:\n",
    "    print(\"enter a number from 0 to 9\")"
   ]
  },
  {
   "cell_type": "markdown",
   "id": "a6d9851e",
   "metadata": {},
   "source": [
    "11. Write a program that prints all the numbers between 0 and 40 that are multiples of 3, 7\n",
    "or 11."
   ]
  },
  {
   "cell_type": "code",
   "execution_count": 168,
   "id": "da1d09fb",
   "metadata": {},
   "outputs": [
    {
     "name": "stdout",
     "output_type": "stream",
     "text": [
      "0 3 6 7 9 11 12 14 15 18 21 22 24 27 28 30 33 35 36 39 "
     ]
    }
   ],
   "source": [
    "for i in range(0,40):\n",
    "    if i%3==0 or i%7==0 or i%11==0:\n",
    "        print(i, end = ' ')\n",
    "        "
   ]
  },
  {
   "cell_type": "markdown",
   "id": "6b6beb0f",
   "metadata": {},
   "source": [
    "12. Write python code that prints the floor of a float x."
   ]
  },
  {
   "cell_type": "code",
   "execution_count": 172,
   "id": "dc5a5474",
   "metadata": {},
   "outputs": [
    {
     "name": "stdout",
     "output_type": "stream",
     "text": [
      "enter a float number: 4.5\n",
      "4\n"
     ]
    }
   ],
   "source": [
    "import math\n",
    "x = float(input(\"enter a float number: \"))\n",
    "floor = math.floor(x)\n",
    "print(floor)"
   ]
  },
  {
   "cell_type": "markdown",
   "id": "c2b0f261",
   "metadata": {},
   "source": [
    "13. Given a point in the plane by its Cartesian coordinates, determine in which quadrant it is\n",
    "(1st, 2nd, 3rd, 4th), if it lies on an axis, or if it is the origin. Do this for several points in\n",
    "the same execution of the program until the user quits."
   ]
  },
  {
   "cell_type": "code",
   "execution_count": null,
   "id": "bfed8456",
   "metadata": {},
   "outputs": [],
   "source": [
    "x = float(input(\"Enter the float number for the x- axis : \"))\n",
    "y = float(input(\"Enter the float number for the y- axis : \"))\n",
    "\n"
   ]
  },
  {
   "cell_type": "markdown",
   "id": "b6b6c89a",
   "metadata": {},
   "source": [
    "14. Ask for an integer number between 0 and 9, denoted x. Once the user has entered a correct\n",
    "number (that is one in the range [0..10)) the program asks for a second integer number\n",
    "between 0 and 255, denoted max. The program continues asking for the number until it\n",
    "is correct (that it is in the range [0..256)). When this is done, show all multiples of x that\n",
    "are between 0 and max. Then, ask the user whether he/she wants to continue; if in the\n",
    "affirmative, ask for another couple of numbers, otherwise finish."
   ]
  },
  {
   "cell_type": "code",
   "execution_count": 185,
   "id": "b2f9aa72",
   "metadata": {},
   "outputs": [
    {
     "name": "stdout",
     "output_type": "stream",
     "text": [
      "Enter a number between 0 and 9: 7\n",
      "continue\n",
      "Enter a number between 0 and 255: 8\n",
      "continue\n",
      "0 7 \n",
      "\n",
      "Do you want to finish? [yes/no]: yes\n",
      " \n"
     ]
    }
   ],
   "source": [
    "n = int(input(\"Enter a number between 0 and 9: \"))\n",
    "if (n<=9 and n> 0):\n",
    "    print(\"continue\")\n",
    "else:\n",
    "    print(\"invalid input\")\n",
    "    n = int(input(\"Enter a number between 0 and 9: \"))\n",
    "    \n",
    "maxi = int(input(\"Enter a number between 0 and 255: \"))\n",
    "if (maxi<=255 and x> 0):\n",
    "    print(\"continue\")\n",
    "else:\n",
    "    print(\"invalid input\")\n",
    "    maxi = int(input(\"Enter a between 0 and 255: \"))\n",
    "    \n",
    "for i in range(maxi):\n",
    "    if (i % n == 0):\n",
    "        print(i, end = ' ')\n",
    "print(\"\\n\")        \n",
    "answer = input(\"Do you want to finish? [yes/no]: \")\n",
    "if (answer == \"yes\"):\n",
    "    print(\" \")\n",
    "elif (answer == \"no\"):\n",
    "    n = int(input(\"Enter a number between 0 and 9: \"))\n",
    "    if (n <= 9 and n > 0):\n",
    "        print(\"continue\")\n",
    "    else:\n",
    "        print(\"invalid input\")\n",
    "        n = int(input(\"Enter a number between 0 and 9: \"))\n",
    "\n",
    "    maxi = int(input(\"Enter a number between 0 and 255: \"))\n",
    "    if (maxi <= 255 and n > 0):\n",
    "        print(\"correct!\")\n",
    "    else:\n",
    "        print(\"Not correct! Retry!\")\n",
    "        maxi = int(input(\"Enter an integer number between 0 and 255: \"))\n",
    "    \n",
    "    for i in range(maxi):\n",
    "        if (i % n == 0):\n",
    "            print(i, end = ' ')"
   ]
  }
 ],
 "metadata": {
  "kernelspec": {
   "display_name": "Python 3",
   "language": "python",
   "name": "python3"
  },
  "language_info": {
   "codemirror_mode": {
    "name": "ipython",
    "version": 3
   },
   "file_extension": ".py",
   "mimetype": "text/x-python",
   "name": "python",
   "nbconvert_exporter": "python",
   "pygments_lexer": "ipython3",
   "version": "3.9.2"
  }
 },
 "nbformat": 4,
 "nbformat_minor": 5
}
