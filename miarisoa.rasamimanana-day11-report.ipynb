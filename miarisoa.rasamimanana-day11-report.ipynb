{
 "cells": [
  {
   "cell_type": "markdown",
   "id": "5a026edc",
   "metadata": {},
   "source": [
    "# Practical 6\n",
    "#### Miarisoa Elalie Rasamimanana"
   ]
  },
  {
   "cell_type": "code",
   "execution_count": 142,
   "id": "b0f51ae5",
   "metadata": {},
   "outputs": [],
   "source": [
    "import numpy as np"
   ]
  },
  {
   "cell_type": "markdown",
   "id": "be25d3c1",
   "metadata": {},
   "source": [
    "**Exercise 1:**\n",
    "\n",
    "Create a NumPy array of integers from 1 to 10."
   ]
  },
  {
   "cell_type": "code",
   "execution_count": 143,
   "id": "880e7eac",
   "metadata": {},
   "outputs": [
    {
     "data": {
      "text/plain": [
       "array([ 1,  2,  3,  4,  5,  6,  7,  8,  9, 10])"
      ]
     },
     "execution_count": 143,
     "metadata": {},
     "output_type": "execute_result"
    }
   ],
   "source": [
    "array_int = np.arange(1,11)\n",
    "array_int"
   ]
  },
  {
   "cell_type": "markdown",
   "id": "825bdc17",
   "metadata": {},
   "source": [
    "**Exercise 2:**\n",
    "\n",
    "Create a 3x3 NumPy array filled with zeros."
   ]
  },
  {
   "cell_type": "code",
   "execution_count": 144,
   "id": "b0236109",
   "metadata": {},
   "outputs": [
    {
     "data": {
      "text/plain": [
       "array([[0, 0, 0],\n",
       "       [0, 0, 0],\n",
       "       [0, 0, 0]])"
      ]
     },
     "execution_count": 144,
     "metadata": {},
     "output_type": "execute_result"
    }
   ],
   "source": [
    "array = np.zeros((3,3),dtype=int)\n",
    "array"
   ]
  },
  {
   "cell_type": "code",
   "execution_count": 145,
   "id": "fcddcb8a",
   "metadata": {},
   "outputs": [
    {
     "data": {
      "text/plain": [
       "array([[0, 0, 0],\n",
       "       [0, 0, 0],\n",
       "       [0, 0, 0]], dtype=int16)"
      ]
     },
     "execution_count": 145,
     "metadata": {},
     "output_type": "execute_result"
    }
   ],
   "source": [
    "array = np.zeros((3,3),dtype=np.int16)\n",
    "array"
   ]
  },
  {
   "cell_type": "code",
   "execution_count": 146,
   "id": "e4268c1e",
   "metadata": {},
   "outputs": [
    {
     "data": {
      "text/plain": [
       "dtype('int16')"
      ]
     },
     "execution_count": 146,
     "metadata": {},
     "output_type": "execute_result"
    }
   ],
   "source": [
    "array.dtype"
   ]
  },
  {
   "cell_type": "markdown",
   "id": "b912ff25",
   "metadata": {},
   "source": [
    "**Exercise 3:**\n",
    "\n",
    "Create a NumPy array of 10 evenly spaced numbers between 0 and 5.\n",
    "\n"
   ]
  },
  {
   "cell_type": "code",
   "execution_count": 147,
   "id": "32e58080",
   "metadata": {},
   "outputs": [
    {
     "data": {
      "text/plain": [
       "array([0.        , 0.55555556, 1.11111111, 1.66666667, 2.22222222,\n",
       "       2.77777778, 3.33333333, 3.88888889, 4.44444444, 5.        ])"
      ]
     },
     "execution_count": 147,
     "metadata": {},
     "output_type": "execute_result"
    }
   ],
   "source": [
    "array = np.linspace(0,5,10)\n",
    "array\n"
   ]
  },
  {
   "cell_type": "code",
   "execution_count": 148,
   "id": "3bfcc7de",
   "metadata": {},
   "outputs": [
    {
     "data": {
      "text/plain": [
       "array([0. , 0.5, 1. , 1.5, 2. , 2.5, 3. , 3.5, 4. , 4.5])"
      ]
     },
     "execution_count": 148,
     "metadata": {},
     "output_type": "execute_result"
    }
   ],
   "source": [
    "array = np.linspace(0,5,10,endpoint=False)\n",
    "array"
   ]
  },
  {
   "cell_type": "markdown",
   "id": "757309dc",
   "metadata": {},
   "source": [
    "**Exercise 4:**\n",
    "\n",
    "Create a 5x5 identity matrix using NumPy."
   ]
  },
  {
   "cell_type": "code",
   "execution_count": 9,
   "id": "174c24e2",
   "metadata": {},
   "outputs": [
    {
     "data": {
      "text/plain": [
       "array([[1., 0., 0., 0., 0.],\n",
       "       [0., 1., 0., 0., 0.],\n",
       "       [0., 0., 1., 0., 0.],\n",
       "       [0., 0., 0., 1., 0.],\n",
       "       [0., 0., 0., 0., 1.]])"
      ]
     },
     "execution_count": 9,
     "metadata": {},
     "output_type": "execute_result"
    }
   ],
   "source": [
    "array=np.eye(5,5)\n",
    "array"
   ]
  },
  {
   "cell_type": "markdown",
   "id": "52d3ee8e",
   "metadata": {},
   "source": [
    "**Exercise 5:**\n",
    "\n",
    "Create a 4x4 matrix with random values between 0 and 1."
   ]
  },
  {
   "cell_type": "code",
   "execution_count": 10,
   "id": "a932ba29",
   "metadata": {
    "scrolled": true
   },
   "outputs": [
    {
     "data": {
      "text/plain": [
       "array([[0.34003623, 0.96717781, 0.64502738, 0.97250317],\n",
       "       [0.50314135, 0.22106566, 0.33098724, 0.72249473],\n",
       "       [0.54734921, 0.2650868 , 0.15836681, 0.13865609],\n",
       "       [0.2539998 , 0.91268079, 0.89377034, 0.58710152]])"
      ]
     },
     "execution_count": 10,
     "metadata": {},
     "output_type": "execute_result"
    }
   ],
   "source": [
    "array = np.random.rand(4,4)\n",
    "array"
   ]
  },
  {
   "cell_type": "code",
   "execution_count": 11,
   "id": "b7a0cf64",
   "metadata": {},
   "outputs": [],
   "source": [
    "np.random.seed(0)"
   ]
  },
  {
   "cell_type": "code",
   "execution_count": 12,
   "id": "29b63cd4",
   "metadata": {},
   "outputs": [
    {
     "data": {
      "text/plain": [
       "array([[0.5488135 , 0.71518937, 0.60276338, 0.54488318],\n",
       "       [0.4236548 , 0.64589411, 0.43758721, 0.891773  ],\n",
       "       [0.96366276, 0.38344152, 0.79172504, 0.52889492],\n",
       "       [0.56804456, 0.92559664, 0.07103606, 0.0871293 ]])"
      ]
     },
     "execution_count": 12,
     "metadata": {},
     "output_type": "execute_result"
    }
   ],
   "source": [
    "array = np.random.random((4,4))\n",
    "array"
   ]
  },
  {
   "cell_type": "markdown",
   "id": "aba5d287",
   "metadata": {},
   "source": [
    "**Exercise 6:**\n",
    "\n",
    "Find the shape of a NumPy array."
   ]
  },
  {
   "cell_type": "code",
   "execution_count": 13,
   "id": "142d9b9f",
   "metadata": {},
   "outputs": [
    {
     "data": {
      "text/plain": [
       "(4, 4)"
      ]
     },
     "execution_count": 13,
     "metadata": {},
     "output_type": "execute_result"
    }
   ],
   "source": [
    "array.shape"
   ]
  },
  {
   "cell_type": "markdown",
   "id": "95e8f238",
   "metadata": {},
   "source": [
    "**Exercise 7:**\n",
    "\n",
    "Reshape a 1D NumPy array of 16 elements into a 4x4 matrix."
   ]
  },
  {
   "cell_type": "code",
   "execution_count": 14,
   "id": "8919b92d",
   "metadata": {},
   "outputs": [
    {
     "data": {
      "text/plain": [
       "array([ 0,  1,  2,  3,  4,  5,  6,  7,  8,  9, 10, 11, 12, 13, 14, 15])"
      ]
     },
     "execution_count": 14,
     "metadata": {},
     "output_type": "execute_result"
    }
   ],
   "source": [
    "array = np.arange(16)\n",
    "array"
   ]
  },
  {
   "cell_type": "code",
   "execution_count": 15,
   "id": "1a01a83a",
   "metadata": {},
   "outputs": [
    {
     "data": {
      "text/plain": [
       "array([[ 0,  1,  2,  3],\n",
       "       [ 4,  5,  6,  7],\n",
       "       [ 8,  9, 10, 11],\n",
       "       [12, 13, 14, 15]])"
      ]
     },
     "execution_count": 15,
     "metadata": {},
     "output_type": "execute_result"
    }
   ],
   "source": [
    "array.reshape(4,4)"
   ]
  },
  {
   "cell_type": "markdown",
   "id": "167740fe",
   "metadata": {},
   "source": [
    "**Exercise 8:**\n",
    "\n",
    "Find the data type of the elements in a NumPy array."
   ]
  },
  {
   "cell_type": "code",
   "execution_count": 16,
   "id": "e2135fcc",
   "metadata": {},
   "outputs": [
    {
     "data": {
      "text/plain": [
       "dtype('int64')"
      ]
     },
     "execution_count": 16,
     "metadata": {},
     "output_type": "execute_result"
    }
   ],
   "source": [
    "array.dtype"
   ]
  },
  {
   "cell_type": "markdown",
   "id": "a3a0f1c6",
   "metadata": {},
   "source": [
    "**Exercise 9:**\n",
    "\n",
    "Create a NumPy array of integers from 1 to 100 and find all even numbers in the array."
   ]
  },
  {
   "cell_type": "code",
   "execution_count": 17,
   "id": "e95f3497",
   "metadata": {},
   "outputs": [
    {
     "data": {
      "text/plain": [
       "array([  1,   2,   3,   4,   5,   6,   7,   8,   9,  10,  11,  12,  13,\n",
       "        14,  15,  16,  17,  18,  19,  20,  21,  22,  23,  24,  25,  26,\n",
       "        27,  28,  29,  30,  31,  32,  33,  34,  35,  36,  37,  38,  39,\n",
       "        40,  41,  42,  43,  44,  45,  46,  47,  48,  49,  50,  51,  52,\n",
       "        53,  54,  55,  56,  57,  58,  59,  60,  61,  62,  63,  64,  65,\n",
       "        66,  67,  68,  69,  70,  71,  72,  73,  74,  75,  76,  77,  78,\n",
       "        79,  80,  81,  82,  83,  84,  85,  86,  87,  88,  89,  90,  91,\n",
       "        92,  93,  94,  95,  96,  97,  98,  99, 100])"
      ]
     },
     "execution_count": 17,
     "metadata": {},
     "output_type": "execute_result"
    }
   ],
   "source": [
    "array = np.arange(1,101)\n",
    "array"
   ]
  },
  {
   "cell_type": "code",
   "execution_count": 18,
   "id": "6a9cf49e",
   "metadata": {},
   "outputs": [
    {
     "name": "stdout",
     "output_type": "stream",
     "text": [
      "[2, 4, 6, 8, 10, 12, 14, 16, 18, 20, 22, 24, 26, 28, 30, 32, 34, 36, 38, 40, 42, 44, 46, 48, 50, 52, 54, 56, 58, 60, 62, 64, 66, 68, 70, 72, 74, 76, 78, 80, 82, 84, 86, 88, 90, 92, 94, 96, 98, 100],"
     ]
    }
   ],
   "source": [
    "even_array = [x for x in array if x%2==0]\n",
    "print(even_array, end=',')"
   ]
  },
  {
   "cell_type": "code",
   "execution_count": 19,
   "id": "3f5432a8",
   "metadata": {},
   "outputs": [
    {
     "data": {
      "text/plain": [
       "array([  2,   4,   6,   8,  10,  12,  14,  16,  18,  20,  22,  24,  26,\n",
       "        28,  30,  32,  34,  36,  38,  40,  42,  44,  46,  48,  50,  52,\n",
       "        54,  56,  58,  60,  62,  64,  66,  68,  70,  72,  74,  76,  78,\n",
       "        80,  82,  84,  86,  88,  90,  92,  94,  96,  98, 100])"
      ]
     },
     "execution_count": 19,
     "metadata": {},
     "output_type": "execute_result"
    }
   ],
   "source": [
    "array = np.arange(2,101,2)\n",
    "array"
   ]
  },
  {
   "cell_type": "markdown",
   "id": "f181abaf",
   "metadata": {},
   "source": [
    "**Exercise 10:**\n",
    "\n",
    "Generate a 6x6 matrix of random integers between 10 and 50."
   ]
  },
  {
   "cell_type": "code",
   "execution_count": 150,
   "id": "7f2cb089",
   "metadata": {},
   "outputs": [
    {
     "data": {
      "text/plain": [
       "array([[44, 42, 45, 49, 37, 20],\n",
       "       [14, 27, 13, 47, 40, 33],\n",
       "       [39, 48, 40, 21, 12, 39],\n",
       "       [17, 19, 33, 10, 27, 31],\n",
       "       [40, 36, 25, 27, 20, 27],\n",
       "       [13, 49, 19, 39, 13, 17]])"
      ]
     },
     "execution_count": 150,
     "metadata": {},
     "output_type": "execute_result"
    }
   ],
   "source": [
    "array = np.random.randint(10,50, size=(6,6))\n",
    "array"
   ]
  },
  {
   "cell_type": "markdown",
   "id": "e302ed3c",
   "metadata": {},
   "source": [
    "**Exercise 11:**\n",
    "\n",
    "Slice a 2D NumPy array to extract a submatrix."
   ]
  },
  {
   "cell_type": "code",
   "execution_count": 151,
   "id": "33c1f30e",
   "metadata": {},
   "outputs": [
    {
     "data": {
      "text/plain": [
       "array([[42, 45],\n",
       "       [27, 13]])"
      ]
     },
     "execution_count": 151,
     "metadata": {},
     "output_type": "execute_result"
    }
   ],
   "source": [
    "sub = array[0:2, 1:3]\n",
    "sub"
   ]
  },
  {
   "cell_type": "markdown",
   "id": "dcbd2102",
   "metadata": {},
   "source": [
    "**Exercise 12:**\n",
    "\n",
    "Calculate the sum of all elements in a NumPy array."
   ]
  },
  {
   "cell_type": "code",
   "execution_count": 23,
   "id": "f8d14623",
   "metadata": {},
   "outputs": [
    {
     "data": {
      "text/plain": [
       "1061"
      ]
     },
     "execution_count": 23,
     "metadata": {},
     "output_type": "execute_result"
    }
   ],
   "source": [
    "somme = np.sum(array)\n",
    "somme"
   ]
  },
  {
   "cell_type": "markdown",
   "id": "9147b749",
   "metadata": {},
   "source": [
    "**Exercise 13:**\n",
    "\n",
    "Calculate the mean, median, and standard deviation of a NumPy array."
   ]
  },
  {
   "cell_type": "code",
   "execution_count": 24,
   "id": "b59882be",
   "metadata": {},
   "outputs": [
    {
     "data": {
      "text/plain": [
       "29.47222222222222"
      ]
     },
     "execution_count": 24,
     "metadata": {},
     "output_type": "execute_result"
    }
   ],
   "source": [
    "mean = np.mean(array)\n",
    "mean"
   ]
  },
  {
   "cell_type": "code",
   "execution_count": 25,
   "id": "f135ffd1",
   "metadata": {},
   "outputs": [
    {
     "name": "stdout",
     "output_type": "stream",
     "text": [
      "3.0\n"
     ]
    }
   ],
   "source": [
    "sort_array = np.sort(array)\n",
    "length = len(sort_array)\n",
    "if length %2==0:\n",
    "    median = length/2\n",
    "    print(median)\n",
    "else:\n",
    "    median = (length+1)/2\n",
    "    print(median)"
   ]
  },
  {
   "cell_type": "code",
   "execution_count": 26,
   "id": "22bf5094",
   "metadata": {},
   "outputs": [
    {
     "data": {
      "text/plain": [
       "13.198245066655874"
      ]
     },
     "execution_count": 26,
     "metadata": {},
     "output_type": "execute_result"
    }
   ],
   "source": [
    "standard = np.std(array,ddof=0)\n",
    "standard"
   ]
  },
  {
   "cell_type": "markdown",
   "id": "65991ce0",
   "metadata": {},
   "source": [
    "**Exercise 14:**\n",
    "\n",
    "Find the maximum and minimum values in a NumPy array."
   ]
  },
  {
   "cell_type": "code",
   "execution_count": 27,
   "id": "43ccfee2",
   "metadata": {},
   "outputs": [
    {
     "data": {
      "text/plain": [
       "(49, 10)"
      ]
     },
     "execution_count": 27,
     "metadata": {},
     "output_type": "execute_result"
    }
   ],
   "source": [
    "maxm = np.max(array)\n",
    "minm=np.min(array)\n",
    "maxm,minm"
   ]
  },
  {
   "cell_type": "markdown",
   "id": "28f5dcf0",
   "metadata": {},
   "source": [
    "**Exercise 15:**\n",
    "\n",
    "Create a NumPy array of 20 random integers and find the index of the maximum value."
   ]
  },
  {
   "cell_type": "code",
   "execution_count": 28,
   "id": "7a0f6368",
   "metadata": {},
   "outputs": [
    {
     "data": {
      "text/plain": [
       "array([ 6, 11, 14, 18,  0, 14,  3, 12, 10, 11,  4,  6,  4, 15,  3, 12,  4,\n",
       "        8, 14, 15])"
      ]
     },
     "execution_count": 28,
     "metadata": {},
     "output_type": "execute_result"
    }
   ],
   "source": [
    "array = np.random.randint(20, size=20)\n",
    "array"
   ]
  },
  {
   "cell_type": "code",
   "execution_count": 29,
   "id": "fba8449a",
   "metadata": {},
   "outputs": [
    {
     "name": "stdout",
     "output_type": "stream",
     "text": [
      "3\n"
     ]
    }
   ],
   "source": [
    "maxvalue = np.argmax(array)\n",
    "print(maxvalue)"
   ]
  },
  {
   "cell_type": "markdown",
   "id": "36c1368b",
   "metadata": {},
   "source": [
    "**Exercise 16:**\n",
    "\n",
    "Create a NumPy array and reverse its elements."
   ]
  },
  {
   "cell_type": "code",
   "execution_count": 30,
   "id": "a7880b48",
   "metadata": {},
   "outputs": [
    {
     "data": {
      "text/plain": [
       "array([[4, 3, 7],\n",
       "       [5, 5, 0],\n",
       "       [1, 5, 3]])"
      ]
     },
     "execution_count": 30,
     "metadata": {},
     "output_type": "execute_result"
    }
   ],
   "source": [
    "array = np.random.randint(9, size=(3,3))\n",
    "array"
   ]
  },
  {
   "cell_type": "code",
   "execution_count": 31,
   "id": "2dc7953b",
   "metadata": {},
   "outputs": [
    {
     "data": {
      "text/plain": [
       "array([[1, 5, 3],\n",
       "       [5, 5, 0],\n",
       "       [4, 3, 7]])"
      ]
     },
     "execution_count": 31,
     "metadata": {},
     "output_type": "execute_result"
    }
   ],
   "source": [
    "array[::-1]"
   ]
  },
  {
   "cell_type": "markdown",
   "id": "9aab0901",
   "metadata": {},
   "source": [
    "**Exercise 17:**\n",
    "\n",
    "Create a 3x3 matrix and multiply it element-wise by another 3x3 matrix.\n",
    "\n"
   ]
  },
  {
   "cell_type": "code",
   "execution_count": 32,
   "id": "746bd3d6",
   "metadata": {},
   "outputs": [
    {
     "data": {
      "text/plain": [
       "(array([[0, 5, 0],\n",
       "        [1, 2, 4],\n",
       "        [2, 0, 3]]),\n",
       " array([[2, 0, 7],\n",
       "        [5, 0, 2],\n",
       "        [7, 2, 2]]))"
      ]
     },
     "execution_count": 32,
     "metadata": {},
     "output_type": "execute_result"
    }
   ],
   "source": [
    "array1 = np.random.randint(9, size=(3,3))\n",
    "array2 = np.random.randint(9, size=(3,3))\n",
    "array1,array2"
   ]
  },
  {
   "cell_type": "code",
   "execution_count": 33,
   "id": "1cf3102f",
   "metadata": {},
   "outputs": [
    {
     "data": {
      "text/plain": [
       "array([[ 0,  0,  0],\n",
       "       [ 5,  0,  8],\n",
       "       [14,  0,  6]])"
      ]
     },
     "execution_count": 33,
     "metadata": {},
     "output_type": "execute_result"
    }
   ],
   "source": [
    "np.multiply(array1,array2)"
   ]
  },
  {
   "cell_type": "markdown",
   "id": "56fce4dc",
   "metadata": {},
   "source": [
    "**Exercise 18:**\n",
    "\n",
    "Create a diagonal matrix from a given 1D array."
   ]
  },
  {
   "cell_type": "code",
   "execution_count": 152,
   "id": "67bd24eb",
   "metadata": {},
   "outputs": [
    {
     "data": {
      "text/plain": [
       "array([[1, 0, 0],\n",
       "       [0, 2, 0],\n",
       "       [0, 0, 3]])"
      ]
     },
     "execution_count": 152,
     "metadata": {},
     "output_type": "execute_result"
    }
   ],
   "source": [
    "array = np.array([1,2,3])\n",
    "np.diag(array)"
   ]
  },
  {
   "cell_type": "markdown",
   "id": "883f192d",
   "metadata": {},
   "source": [
    "**Exercise 19:**\n",
    "\n",
    "Perform matrix multiplication on two 2D NumPy arrays."
   ]
  },
  {
   "cell_type": "code",
   "execution_count": 35,
   "id": "cc1a415c",
   "metadata": {},
   "outputs": [
    {
     "data": {
      "text/plain": [
       "array([[25,  0, 10],\n",
       "       [40,  8, 19],\n",
       "       [25,  6, 20]])"
      ]
     },
     "execution_count": 35,
     "metadata": {},
     "output_type": "execute_result"
    }
   ],
   "source": [
    "np.dot(array1, array2)"
   ]
  },
  {
   "cell_type": "markdown",
   "id": "8bcc59c5",
   "metadata": {},
   "source": [
    "**Exercise 20:**\n",
    "\n",
    "Flatten a 2D NumPy array into a 1D array."
   ]
  },
  {
   "cell_type": "code",
   "execution_count": 36,
   "id": "86213d3d",
   "metadata": {},
   "outputs": [
    {
     "data": {
      "text/plain": [
       "array([0, 5, 0, 1, 2, 4, 2, 0, 3])"
      ]
     },
     "execution_count": 36,
     "metadata": {},
     "output_type": "execute_result"
    }
   ],
   "source": [
    "array1.flatten()"
   ]
  },
  {
   "cell_type": "markdown",
   "id": "22ce093d",
   "metadata": {},
   "source": [
    "**Exercise 21:**\n",
    "\n",
    "Stack two NumPy arrays vertically."
   ]
  },
  {
   "cell_type": "code",
   "execution_count": 38,
   "id": "49be77f8",
   "metadata": {},
   "outputs": [
    {
     "data": {
      "text/plain": [
       "array([[0, 5, 0],\n",
       "       [1, 2, 4],\n",
       "       [2, 0, 3],\n",
       "       [2, 0, 7],\n",
       "       [5, 0, 2],\n",
       "       [7, 2, 2]])"
      ]
     },
     "execution_count": 38,
     "metadata": {},
     "output_type": "execute_result"
    }
   ],
   "source": [
    "np.vstack((array1,array2))"
   ]
  },
  {
   "cell_type": "markdown",
   "id": "b9b1a00e",
   "metadata": {},
   "source": [
    "**Exercise 22:**\n",
    "\n",
    "Stack two NumPy arrays horizontally.\n",
    "\n"
   ]
  },
  {
   "cell_type": "code",
   "execution_count": 39,
   "id": "ab754f75",
   "metadata": {},
   "outputs": [
    {
     "data": {
      "text/plain": [
       "array([[0, 5, 0, 2, 0, 7],\n",
       "       [1, 2, 4, 5, 0, 2],\n",
       "       [2, 0, 3, 7, 2, 2]])"
      ]
     },
     "execution_count": 39,
     "metadata": {},
     "output_type": "execute_result"
    }
   ],
   "source": [
    "np.hstack((array1,array2))"
   ]
  },
  {
   "cell_type": "markdown",
   "id": "ae98b93c",
   "metadata": {},
   "source": [
    "**Exercise 23:**\n",
    "\n",
    "Split a NumPy array into multiple sub-arrays."
   ]
  },
  {
   "cell_type": "code",
   "execution_count": 41,
   "id": "f0e94f2b",
   "metadata": {},
   "outputs": [
    {
     "data": {
      "text/plain": [
       "[array([[0, 5, 0]]), array([[1, 2, 4]]), array([[2, 0, 3]])]"
      ]
     },
     "execution_count": 41,
     "metadata": {},
     "output_type": "execute_result"
    }
   ],
   "source": [
    "np.split(array1,3)"
   ]
  },
  {
   "cell_type": "markdown",
   "id": "86662ad7",
   "metadata": {},
   "source": [
    "**Exercise 24:**\n",
    "\n",
    "Generate a random NumPy array and round each element to two decimal places."
   ]
  },
  {
   "cell_type": "code",
   "execution_count": 42,
   "id": "92a21a75",
   "metadata": {},
   "outputs": [
    {
     "data": {
      "text/plain": [
       "array([[0, 5, 0],\n",
       "       [1, 2, 4],\n",
       "       [2, 0, 3]])"
      ]
     },
     "execution_count": 42,
     "metadata": {},
     "output_type": "execute_result"
    }
   ],
   "source": [
    "np.round(array1,2)"
   ]
  },
  {
   "cell_type": "markdown",
   "id": "cb9e52b0",
   "metadata": {},
   "source": [
    "**Exercise 25:**\n",
    "\n",
    "Find the unique elements of a NumPy array."
   ]
  },
  {
   "cell_type": "code",
   "execution_count": 43,
   "id": "6e3b6e02",
   "metadata": {},
   "outputs": [],
   "source": [
    "array = np.array([ 0,  3,  4,  0,  7,  8, 10, 11, 0, 14, 15, 3, 1])"
   ]
  },
  {
   "cell_type": "code",
   "execution_count": 44,
   "id": "a48cd1d9",
   "metadata": {},
   "outputs": [
    {
     "data": {
      "text/plain": [
       "array([ 0,  1,  3,  4,  7,  8, 10, 11, 14, 15])"
      ]
     },
     "execution_count": 44,
     "metadata": {},
     "output_type": "execute_result"
    }
   ],
   "source": [
    "np.unique(array)"
   ]
  },
  {
   "cell_type": "markdown",
   "id": "e64e5d0f",
   "metadata": {},
   "source": [
    "**Exercise 26:**\n",
    "\n",
    "Replace all elements in a NumPy array that are less than a specific value with that value."
   ]
  },
  {
   "cell_type": "code",
   "execution_count": 45,
   "id": "4b1940e5",
   "metadata": {},
   "outputs": [
    {
     "data": {
      "text/plain": [
       "array([ 4,  4,  4,  4,  7,  8, 10, 11,  4, 14, 15,  4,  4])"
      ]
     },
     "execution_count": 45,
     "metadata": {},
     "output_type": "execute_result"
    }
   ],
   "source": [
    "spec_value=4\n",
    "array[array<spec_value]=spec_value\n",
    "array"
   ]
  },
  {
   "cell_type": "markdown",
   "id": "57eb1a7a",
   "metadata": {},
   "source": [
    "**Exercise 27:**\n",
    "\n",
    "Find the cumulative sum of the elements in a NumPy array."
   ]
  },
  {
   "cell_type": "code",
   "execution_count": 47,
   "id": "86f43967",
   "metadata": {},
   "outputs": [
    {
     "data": {
      "text/plain": [
       "array([ 4,  8, 12, 16, 23, 31, 41, 52, 56, 70, 85, 89, 93])"
      ]
     },
     "execution_count": 47,
     "metadata": {},
     "output_type": "execute_result"
    }
   ],
   "source": [
    "np.cumsum(array)"
   ]
  },
  {
   "cell_type": "markdown",
   "id": "c146b8d5",
   "metadata": {},
   "source": [
    "**Exercise 28:**\n",
    "\n",
    "Create a NumPy array and find the number of non-zero elements in it.\n",
    "\n"
   ]
  },
  {
   "cell_type": "code",
   "execution_count": 48,
   "id": "5a2b6431",
   "metadata": {},
   "outputs": [
    {
     "data": {
      "text/plain": [
       "13"
      ]
     },
     "execution_count": 48,
     "metadata": {},
     "output_type": "execute_result"
    }
   ],
   "source": [
    "np.count_nonzero(array)"
   ]
  },
  {
   "cell_type": "markdown",
   "id": "8fd77e0c",
   "metadata": {},
   "source": [
    "**Exercise 29:**\n",
    "\n",
    "Create a NumPy array of random integers and sort it in ascending order.\n",
    "\n"
   ]
  },
  {
   "cell_type": "code",
   "execution_count": 49,
   "id": "bb362570",
   "metadata": {
    "scrolled": true
   },
   "outputs": [
    {
     "data": {
      "text/plain": [
       "array([[ 3,  3, 18],\n",
       "       [ 3, 14, 17],\n",
       "       [ 9, 14, 18]])"
      ]
     },
     "execution_count": 49,
     "metadata": {},
     "output_type": "execute_result"
    }
   ],
   "source": [
    "array = np.random.randint(0,20, size=(3,3))\n",
    "np.sort(array)"
   ]
  },
  {
   "cell_type": "markdown",
   "id": "af245e40",
   "metadata": {},
   "source": [
    "**Exercise 30:**\n",
    "\n",
    "Find the row-wise and column-wise sum of a 3x3 matrix.\n",
    "\n"
   ]
  },
  {
   "cell_type": "code",
   "execution_count": 50,
   "id": "c43bf83a",
   "metadata": {},
   "outputs": [
    {
     "data": {
      "text/plain": [
       "array([5, 7, 5])"
      ]
     },
     "execution_count": 50,
     "metadata": {},
     "output_type": "execute_result"
    }
   ],
   "source": [
    "row_wise = np.sum(array1,axis=1)\n",
    "row_wise"
   ]
  },
  {
   "cell_type": "code",
   "execution_count": 51,
   "id": "d5149172",
   "metadata": {},
   "outputs": [
    {
     "data": {
      "text/plain": [
       "array([3, 7, 7])"
      ]
     },
     "execution_count": 51,
     "metadata": {},
     "output_type": "execute_result"
    }
   ],
   "source": [
    "column_wise = np.sum(array1,axis=0)\n",
    "column_wise"
   ]
  },
  {
   "cell_type": "markdown",
   "id": "807eef3b",
   "metadata": {},
   "source": [
    "**Exercise 31:**\n",
    "\n",
    "Generate a 2D NumPy array with random values and normalize it (scale the values between 0 and 1)"
   ]
  },
  {
   "cell_type": "code",
   "execution_count": 57,
   "id": "40dacb80",
   "metadata": {},
   "outputs": [
    {
     "data": {
      "text/plain": [
       "array([0.07438848, 0.72010309, 0.        , 1.        , 0.48570378])"
      ]
     },
     "execution_count": 57,
     "metadata": {},
     "output_type": "execute_result"
    }
   ],
   "source": [
    "array = np.random.rand(5)\n",
    "(array - np.min(array)) / (np.max(array) - np.min(array))"
   ]
  },
  {
   "cell_type": "markdown",
   "id": "5ad13b6e",
   "metadata": {},
   "source": [
    "**Exercise 32:**\n",
    "\n",
    "Create two NumPy arrays and find the dot product."
   ]
  },
  {
   "cell_type": "code",
   "execution_count": 58,
   "id": "49adfb3d",
   "metadata": {},
   "outputs": [
    {
     "data": {
      "text/plain": [
       "32"
      ]
     },
     "execution_count": 58,
     "metadata": {},
     "output_type": "execute_result"
    }
   ],
   "source": [
    "array1 = np.array([1, 2, 3])\n",
    "array2 = np.array([4, 5, 6])\n",
    "np.dot(array1, array2)"
   ]
  },
  {
   "cell_type": "markdown",
   "id": "7bfc7cfe",
   "metadata": {},
   "source": [
    "**Exercise 33:**\n",
    "\n",
    "Find the trace of a square NumPy matrix.\n",
    "\n"
   ]
  },
  {
   "cell_type": "code",
   "execution_count": 64,
   "id": "6e613ec3",
   "metadata": {},
   "outputs": [
    {
     "data": {
      "text/plain": [
       "array([[11,  6, 15],\n",
       "       [ 1, 12,  3],\n",
       "       [18, 15,  3]])"
      ]
     },
     "execution_count": 64,
     "metadata": {},
     "output_type": "execute_result"
    }
   ],
   "source": [
    "array = np.random.randint(0,20, size=(3,3))\n",
    "array"
   ]
  },
  {
   "cell_type": "code",
   "execution_count": 65,
   "id": "fedfcc95",
   "metadata": {},
   "outputs": [
    {
     "data": {
      "text/plain": [
       "26"
      ]
     },
     "execution_count": 65,
     "metadata": {},
     "output_type": "execute_result"
    }
   ],
   "source": [
    "np.trace(array)"
   ]
  },
  {
   "cell_type": "markdown",
   "id": "945779f3",
   "metadata": {},
   "source": [
    "**Exercise 34:**\n",
    "\n",
    "Create a 2D array and swap two rows."
   ]
  },
  {
   "cell_type": "code",
   "execution_count": 66,
   "id": "ed863a19",
   "metadata": {},
   "outputs": [
    {
     "data": {
      "text/plain": [
       "array([[18, 15,  3],\n",
       "       [ 1, 12,  3],\n",
       "       [11,  6, 15]])"
      ]
     },
     "execution_count": 66,
     "metadata": {},
     "output_type": "execute_result"
    }
   ],
   "source": [
    "array[[0, 2]] = array[[2, 0]]\n",
    "array"
   ]
  },
  {
   "cell_type": "markdown",
   "id": "67456ac9",
   "metadata": {},
   "source": [
    "**Exercise 35:**\n",
    "\n",
    "Create a 1D NumPy array and convert it into a column vector."
   ]
  },
  {
   "cell_type": "code",
   "execution_count": 67,
   "id": "ebc4acbc",
   "metadata": {},
   "outputs": [],
   "source": [
    "array = np.random.rand(5)"
   ]
  },
  {
   "cell_type": "code",
   "execution_count": 68,
   "id": "c16f924d",
   "metadata": {},
   "outputs": [
    {
     "data": {
      "text/plain": [
       "array([[0.36756187],\n",
       "       [0.43586493],\n",
       "       [0.89192336],\n",
       "       [0.80619399],\n",
       "       [0.70388858]])"
      ]
     },
     "execution_count": 68,
     "metadata": {},
     "output_type": "execute_result"
    }
   ],
   "source": [
    "array[:, np.newaxis]"
   ]
  },
  {
   "cell_type": "markdown",
   "id": "368e6a8c",
   "metadata": {},
   "source": [
    "**Exercise 36:**\n",
    "\n",
    "Find the determinant of a 3x3 matrix."
   ]
  },
  {
   "cell_type": "code",
   "execution_count": 72,
   "id": "c381e154",
   "metadata": {},
   "outputs": [
    {
     "data": {
      "text/plain": [
       "array([[ 3, 14, 18],\n",
       "       [12,  3,  9],\n",
       "       [10, 13,  7]])"
      ]
     },
     "execution_count": 72,
     "metadata": {},
     "output_type": "execute_result"
    }
   ],
   "source": [
    "array = np.random.randint(0,20, size=(3,3))\n",
    "array"
   ]
  },
  {
   "cell_type": "code",
   "execution_count": 73,
   "id": "8466c49f",
   "metadata": {},
   "outputs": [
    {
     "data": {
      "text/plain": [
       "2063.9999999999986"
      ]
     },
     "execution_count": 73,
     "metadata": {},
     "output_type": "execute_result"
    }
   ],
   "source": [
    "np.linalg.det(array)"
   ]
  },
  {
   "cell_type": "markdown",
   "id": "e8f81409",
   "metadata": {},
   "source": [
    "**Exercise 37:**\n",
    "\n",
    "Find the eigenvalues and eigenvectors of a 2x2 matrix."
   ]
  },
  {
   "cell_type": "code",
   "execution_count": 74,
   "id": "ca923c17",
   "metadata": {},
   "outputs": [
    {
     "data": {
      "text/plain": [
       "array([[7, 5],\n",
       "       [1, 2]])"
      ]
     },
     "execution_count": 74,
     "metadata": {},
     "output_type": "execute_result"
    }
   ],
   "source": [
    "array = np.random.randint(0,9, size=(2,2))\n",
    "array"
   ]
  },
  {
   "cell_type": "code",
   "execution_count": 76,
   "id": "9208eadb",
   "metadata": {},
   "outputs": [
    {
     "data": {
      "text/plain": [
       "array([7.85410197, 1.14589803])"
      ]
     },
     "execution_count": 76,
     "metadata": {},
     "output_type": "execute_result"
    }
   ],
   "source": [
    "eigenvalue, eigenvector=np.linalg.eig(array)\n",
    "eigenvalue"
   ]
  },
  {
   "cell_type": "code",
   "execution_count": 77,
   "id": "5389d8be",
   "metadata": {},
   "outputs": [
    {
     "data": {
      "text/plain": [
       "array([[ 0.98572192, -0.6494574 ],\n",
       "       [ 0.16838141,  0.76039797]])"
      ]
     },
     "execution_count": 77,
     "metadata": {},
     "output_type": "execute_result"
    }
   ],
   "source": [
    "eigenvector"
   ]
  },
  {
   "cell_type": "markdown",
   "id": "3841b649",
   "metadata": {},
   "source": [
    "**Exercise 38:**\n",
    "\n",
    "Solve a system of linear equations using NumPy."
   ]
  },
  {
   "cell_type": "code",
   "execution_count": 79,
   "id": "671e5131",
   "metadata": {},
   "outputs": [
    {
     "data": {
      "text/plain": [
       "array([-4.5,  5. ])"
      ]
     },
     "execution_count": 79,
     "metadata": {},
     "output_type": "execute_result"
    }
   ],
   "source": [
    "A = np.array([[2, 3],[4, 5]])\n",
    "B = np.array([6, 7])\n",
    "np.linalg.solve(A, B)"
   ]
  },
  {
   "cell_type": "markdown",
   "id": "4cf89bfe",
   "metadata": {},
   "source": [
    "**Exercise 39:**\n",
    "\n",
    "Add Gaussian noise to a NumPy array."
   ]
  },
  {
   "cell_type": "code",
   "execution_count": 81,
   "id": "73c86f87",
   "metadata": {},
   "outputs": [
    {
     "data": {
      "text/plain": [
       "array([-0.06743327,  0.00318306, -0.06358461,  0.06764333,  0.05765908])"
      ]
     },
     "execution_count": 81,
     "metadata": {},
     "output_type": "execute_result"
    }
   ],
   "source": [
    "array = np.array([1, 2, 3, 4, 5])\n",
    "mean = 0\n",
    "std_dev = 0.1\n",
    "np.random.normal(mean, std_dev, array.shape)"
   ]
  },
  {
   "cell_type": "markdown",
   "id": "ac0f6e37",
   "metadata": {},
   "source": [
    "**Exercise 40:**\n",
    "\n",
    "Create a 4x4 matrix and extract the diagonal elements."
   ]
  },
  {
   "cell_type": "code",
   "execution_count": 82,
   "id": "6006ee5e",
   "metadata": {},
   "outputs": [
    {
     "data": {
      "text/plain": [
       "array([[ 8,  1, 17],\n",
       "       [16,  3,  8],\n",
       "       [ 4, 16,  3]])"
      ]
     },
     "execution_count": 82,
     "metadata": {},
     "output_type": "execute_result"
    }
   ],
   "source": [
    "array = np.random.randint(0,20, size=(3,3))\n",
    "array"
   ]
  },
  {
   "cell_type": "code",
   "execution_count": 83,
   "id": "832bb99d",
   "metadata": {},
   "outputs": [
    {
     "data": {
      "text/plain": [
       "array([8, 3, 3])"
      ]
     },
     "execution_count": 83,
     "metadata": {},
     "output_type": "execute_result"
    }
   ],
   "source": [
    "np.diagonal(array)"
   ]
  },
  {
   "cell_type": "markdown",
   "id": "fa2976a0",
   "metadata": {},
   "source": [
    "**Exercise 41:**\n",
    "\n",
    "Generate a NumPy array of 100 random values and clip the values to a range between 10 and 50."
   ]
  },
  {
   "cell_type": "code",
   "execution_count": 89,
   "id": "58d345ca",
   "metadata": {},
   "outputs": [],
   "source": [
    "array = np.random.randint(0,100,100)"
   ]
  },
  {
   "cell_type": "code",
   "execution_count": 90,
   "id": "94bd98ee",
   "metadata": {},
   "outputs": [
    {
     "data": {
      "text/plain": [
       "array([50, 50, 50, 10, 12, 50, 37, 39, 32, 33, 26, 50, 50, 50, 50, 50, 20,\n",
       "       50, 28, 50, 18, 25, 24, 39, 28, 24, 18, 50, 44, 50, 45, 50, 10, 10,\n",
       "       50, 10, 50, 50, 50, 50, 19, 34, 50, 20, 43, 10, 50, 50, 12, 15, 33,\n",
       "       23, 12, 10, 38, 10, 10, 10, 10, 38, 50, 50, 50, 50, 10, 50, 29, 10,\n",
       "       50, 10, 50, 50, 43, 50, 50, 50, 47, 50, 21, 18, 50, 13, 50, 50, 50,\n",
       "       10, 48, 40, 26, 30, 10, 15, 50, 37, 50, 50, 50, 50, 32, 50])"
      ]
     },
     "execution_count": 90,
     "metadata": {},
     "output_type": "execute_result"
    }
   ],
   "source": [
    "np.clip(array, 10, 50)"
   ]
  },
  {
   "cell_type": "markdown",
   "id": "5652e4e4",
   "metadata": {},
   "source": [
    "**Exercise 42:**\n",
    "\n",
    "Create a 2D NumPy array and replace all negative values with zero."
   ]
  },
  {
   "cell_type": "code",
   "execution_count": 92,
   "id": "b461b066",
   "metadata": {},
   "outputs": [
    {
     "data": {
      "text/plain": [
       "array([[  0,   2, -10],\n",
       "       [ -3,   9,  -5],\n",
       "       [ -6,   9,  -6]])"
      ]
     },
     "execution_count": 92,
     "metadata": {},
     "output_type": "execute_result"
    }
   ],
   "source": [
    "array = np.random.randint(-10,10, size=(3,3))\n",
    "array"
   ]
  },
  {
   "cell_type": "code",
   "execution_count": 93,
   "id": "b60d857d",
   "metadata": {},
   "outputs": [
    {
     "data": {
      "text/plain": [
       "array([[0, 2, 0],\n",
       "       [0, 9, 0],\n",
       "       [0, 9, 0]])"
      ]
     },
     "execution_count": 93,
     "metadata": {},
     "output_type": "execute_result"
    }
   ],
   "source": [
    "array[array < 0] = 0\n",
    "array"
   ]
  },
  {
   "cell_type": "markdown",
   "id": "0042576a",
   "metadata": {},
   "source": [
    "**Exercise 43:**\n",
    "\n",
    "Find the inner and outer products of two NumPy arrays."
   ]
  },
  {
   "cell_type": "code",
   "execution_count": 97,
   "id": "0b11da79",
   "metadata": {},
   "outputs": [
    {
     "data": {
      "text/plain": [
       "(array([[0, 1, 5],\n",
       "        [6, 1, 4],\n",
       "        [0, 4, 7]]),\n",
       " array([[7, 7, 6],\n",
       "        [2, 6, 0],\n",
       "        [2, 7, 7]]))"
      ]
     },
     "execution_count": 97,
     "metadata": {},
     "output_type": "execute_result"
    }
   ],
   "source": [
    "array1 = np.random.randint(9, size=(3,3))\n",
    "array2 = np.random.randint(9, size=(3,3))\n",
    "array1,array2"
   ]
  },
  {
   "cell_type": "code",
   "execution_count": 98,
   "id": "48b49fed",
   "metadata": {},
   "outputs": [
    {
     "data": {
      "text/plain": [
       "array([[12, 41, 35],\n",
       "       [52, 76, 64],\n",
       "       [22, 73, 49]])"
      ]
     },
     "execution_count": 98,
     "metadata": {},
     "output_type": "execute_result"
    }
   ],
   "source": [
    "inner_product = np.dot(array1, array2)\n",
    "inner_product"
   ]
  },
  {
   "cell_type": "code",
   "execution_count": 99,
   "id": "53ff23ab",
   "metadata": {},
   "outputs": [
    {
     "data": {
      "text/plain": [
       "array([[ 0,  0,  0,  0,  0,  0,  0,  0,  0],\n",
       "       [ 7,  7,  6,  2,  6,  0,  2,  7,  7],\n",
       "       [35, 35, 30, 10, 30,  0, 10, 35, 35],\n",
       "       [42, 42, 36, 12, 36,  0, 12, 42, 42],\n",
       "       [ 7,  7,  6,  2,  6,  0,  2,  7,  7],\n",
       "       [28, 28, 24,  8, 24,  0,  8, 28, 28],\n",
       "       [ 0,  0,  0,  0,  0,  0,  0,  0,  0],\n",
       "       [28, 28, 24,  8, 24,  0,  8, 28, 28],\n",
       "       [49, 49, 42, 14, 42,  0, 14, 49, 49]])"
      ]
     },
     "execution_count": 99,
     "metadata": {},
     "output_type": "execute_result"
    }
   ],
   "source": [
    "outer_product = np.outer(array1, array2)\n",
    "outer_product"
   ]
  },
  {
   "cell_type": "markdown",
   "id": "b7214a35",
   "metadata": {},
   "source": [
    "**Exercise 44:**\n",
    "\n",
    "Calculate the pairwise distances between points in a NumPy array."
   ]
  },
  {
   "cell_type": "code",
   "execution_count": null,
   "id": "4230dcf5",
   "metadata": {},
   "outputs": [],
   "source": []
  },
  {
   "cell_type": "markdown",
   "id": "2da3e8c2",
   "metadata": {},
   "source": [
    "**Exercise 45:**\n",
    "\n",
    "Create a structured NumPy array with fields for name, age, and height."
   ]
  },
  {
   "cell_type": "code",
   "execution_count": 105,
   "id": "bb6d72ba",
   "metadata": {},
   "outputs": [
    {
     "data": {
      "text/plain": [
       "array([['Alice', '25', '1.68'],\n",
       "       ['Bob', '30', '1.75'],\n",
       "       ['Charlie', '22', '1.8']], dtype='<U32')"
      ]
     },
     "execution_count": 105,
     "metadata": {},
     "output_type": "execute_result"
    }
   ],
   "source": [
    "array = np.array([('Alice', 25, 1.68),('Bob', 30, 1.75),('Charlie', 22, 1.80)])\n",
    "array"
   ]
  },
  {
   "cell_type": "markdown",
   "id": "50cd8c79",
   "metadata": {},
   "source": [
    "**Exercise 46:**\n",
    "\n",
    "Create a 5x5 matrix of random integers and count the occurrences of each unique value."
   ]
  },
  {
   "cell_type": "code",
   "execution_count": 109,
   "id": "94779bca",
   "metadata": {},
   "outputs": [
    {
     "data": {
      "text/plain": [
       "array([1, 2, 3, 4, 5, 6, 7, 8, 9])"
      ]
     },
     "execution_count": 109,
     "metadata": {},
     "output_type": "execute_result"
    }
   ],
   "source": [
    "array = np.random.randint(0, 10, size=(5, 5))\n",
    "unique, counts = np.unique(array, return_counts=True)\n",
    "unique"
   ]
  },
  {
   "cell_type": "code",
   "execution_count": 110,
   "id": "27a94fe1",
   "metadata": {},
   "outputs": [
    {
     "data": {
      "text/plain": [
       "array([4, 3, 3, 5, 3, 3, 1, 2, 1])"
      ]
     },
     "execution_count": 110,
     "metadata": {},
     "output_type": "execute_result"
    }
   ],
   "source": [
    "counts"
   ]
  },
  {
   "cell_type": "markdown",
   "id": "3103b60d",
   "metadata": {},
   "source": [
    "**Exercise 47:**\n",
    "\n",
    "Generate a random 3x3 NumPy array and subtract the mean of each row from the corresponding row."
   ]
  },
  {
   "cell_type": "code",
   "execution_count": null,
   "id": "c6b344ad",
   "metadata": {},
   "outputs": [],
   "source": []
  },
  {
   "cell_type": "markdown",
   "id": "55d54c47",
   "metadata": {},
   "source": [
    "Exercise 48:\n",
    "\n",
    "Create a NumPy array of random integers and check if any of the values are greater than 50."
   ]
  },
  {
   "cell_type": "code",
   "execution_count": null,
   "id": "d6c037a3",
   "metadata": {},
   "outputs": [],
   "source": []
  },
  {
   "cell_type": "markdown",
   "id": "c4de87f1",
   "metadata": {},
   "source": [
    "**Exercise 52:**\n",
    "\n",
    "Create a random NumPy array and compute its variance and standard deviation."
   ]
  },
  {
   "cell_type": "code",
   "execution_count": 119,
   "id": "7486af5b",
   "metadata": {},
   "outputs": [
    {
     "data": {
      "text/plain": [
       "array([[ 8,  1,  9],\n",
       "       [ 7,  5, -7],\n",
       "       [ 0,  4,  5]])"
      ]
     },
     "execution_count": 119,
     "metadata": {},
     "output_type": "execute_result"
    }
   ],
   "source": [
    "array = np.random.randint(-10,10, size=(3,3))\n",
    "array"
   ]
  },
  {
   "cell_type": "code",
   "execution_count": 120,
   "id": "5272bf80",
   "metadata": {},
   "outputs": [
    {
     "data": {
      "text/plain": [
       "21.80246913580247"
      ]
     },
     "execution_count": 120,
     "metadata": {},
     "output_type": "execute_result"
    }
   ],
   "source": [
    "variance = np.var(array)\n",
    "variance"
   ]
  },
  {
   "cell_type": "code",
   "execution_count": 121,
   "id": "53e84057",
   "metadata": {},
   "outputs": [
    {
     "data": {
      "text/plain": [
       "4.669311419877932"
      ]
     },
     "execution_count": 121,
     "metadata": {},
     "output_type": "execute_result"
    }
   ],
   "source": [
    "std_deviation = np.std(array)\n",
    "std_deviation"
   ]
  },
  {
   "cell_type": "markdown",
   "id": "8f32e534",
   "metadata": {},
   "source": [
    "**Exercise 53:**\n",
    "\n",
    "Create a 2D NumPy array and find the indices of the maximum values along each axis."
   ]
  },
  {
   "cell_type": "code",
   "execution_count": 124,
   "id": "ff3e3e1a",
   "metadata": {
    "scrolled": true
   },
   "outputs": [
    {
     "data": {
      "text/plain": [
       "(array([0, 1, 0]), array([2, 0, 2]))"
      ]
     },
     "execution_count": 124,
     "metadata": {},
     "output_type": "execute_result"
    }
   ],
   "source": [
    "max_col = np.argmax(array, axis=0)\n",
    "max_row = np.argmax(array, axis=1)\n",
    "max_col,max_row"
   ]
  },
  {
   "cell_type": "markdown",
   "id": "30c0b864",
   "metadata": {},
   "source": [
    "**Exercise 54:**\n",
    "\n",
    "Compute the inverse of a 2x2 NumPy matrix."
   ]
  },
  {
   "cell_type": "code",
   "execution_count": 125,
   "id": "fd5c46c7",
   "metadata": {},
   "outputs": [
    {
     "data": {
      "text/plain": [
       "array([[1, 7],\n",
       "       [2, 1]])"
      ]
     },
     "execution_count": 125,
     "metadata": {},
     "output_type": "execute_result"
    }
   ],
   "source": [
    "array = np.random.randint(0,9, size=(2,2))\n",
    "array"
   ]
  },
  {
   "cell_type": "code",
   "execution_count": 127,
   "id": "0d3d5204",
   "metadata": {},
   "outputs": [
    {
     "data": {
      "text/plain": [
       "array([[-0.07692308,  0.53846154],\n",
       "       [ 0.15384615, -0.07692308]])"
      ]
     },
     "execution_count": 127,
     "metadata": {},
     "output_type": "execute_result"
    }
   ],
   "source": [
    "inverse = np.linalg.inv(array)\n",
    "inverse"
   ]
  },
  {
   "cell_type": "markdown",
   "id": "6086cef5",
   "metadata": {},
   "source": [
    "**Exercise 55:**\n",
    "\n",
    "Create a NumPy array of 10 random values and standardize it (mean 0, variance 1)."
   ]
  },
  {
   "cell_type": "code",
   "execution_count": 128,
   "id": "d8fa2ca2",
   "metadata": {},
   "outputs": [
    {
     "data": {
      "text/plain": [
       "array([[-0.70352647,  1.70856429],\n",
       "       [-0.30151134, -0.70352647]])"
      ]
     },
     "execution_count": 128,
     "metadata": {},
     "output_type": "execute_result"
    }
   ],
   "source": [
    "mean = np.mean(array)\n",
    "std_dev = np.std(array)\n",
    "standardized_array = (array - mean) / std_dev\n",
    "standardized_array"
   ]
  },
  {
   "cell_type": "markdown",
   "id": "c306b8aa",
   "metadata": {},
   "source": [
    "**Exercise 56:**\n",
    "\n",
    "Perform element-wise addition and subtraction on two NumPy arrays."
   ]
  },
  {
   "cell_type": "code",
   "execution_count": 138,
   "id": "1eb0c80c",
   "metadata": {},
   "outputs": [
    {
     "data": {
      "text/plain": [
       "(array([[1, 1, 1],\n",
       "        [7, 0, 0],\n",
       "        [2, 1, 4]]),\n",
       " array([[6, 0, 6],\n",
       "        [6, 2, 8],\n",
       "        [6, 6, 5]]))"
      ]
     },
     "execution_count": 138,
     "metadata": {},
     "output_type": "execute_result"
    }
   ],
   "source": [
    "array1 = np.random.randint(9, size=(3,3))\n",
    "array2 = np.random.randint(9, size=(3,3))\n",
    "array1, array2"
   ]
  },
  {
   "cell_type": "code",
   "execution_count": 139,
   "id": "bf3f773c",
   "metadata": {},
   "outputs": [
    {
     "data": {
      "text/plain": [
       "array([[ 7,  1,  7],\n",
       "       [13,  2,  8],\n",
       "       [ 8,  7,  9]])"
      ]
     },
     "execution_count": 139,
     "metadata": {},
     "output_type": "execute_result"
    }
   ],
   "source": [
    "addition = array1 + array2\n",
    "addition"
   ]
  },
  {
   "cell_type": "code",
   "execution_count": 141,
   "id": "0178d202",
   "metadata": {},
   "outputs": [
    {
     "data": {
      "text/plain": [
       "array([[-5,  1, -5],\n",
       "       [ 1, -2, -8],\n",
       "       [-4, -5, -1]])"
      ]
     },
     "execution_count": 141,
     "metadata": {},
     "output_type": "execute_result"
    }
   ],
   "source": [
    "subtraction = array1 - array2\n",
    "subtraction"
   ]
  },
  {
   "cell_type": "markdown",
   "id": "0c6e61f2",
   "metadata": {},
   "source": [
    "**Exercise 57:**\n",
    "\n",
    "Create a NumPy array of random values and find the maximum element's index."
   ]
  },
  {
   "cell_type": "code",
   "execution_count": 133,
   "id": "cfa0e027",
   "metadata": {},
   "outputs": [
    {
     "data": {
      "text/plain": [
       "array([2, 0, 2, 2, 9])"
      ]
     },
     "execution_count": 133,
     "metadata": {},
     "output_type": "execute_result"
    }
   ],
   "source": [
    "array = np.random.randint(0,10,5)\n",
    "array"
   ]
  },
  {
   "cell_type": "code",
   "execution_count": 134,
   "id": "ee6fdd3d",
   "metadata": {},
   "outputs": [
    {
     "data": {
      "text/plain": [
       "4"
      ]
     },
     "execution_count": 134,
     "metadata": {},
     "output_type": "execute_result"
    }
   ],
   "source": [
    "max_index = np.argmax(array)\n",
    "max_index"
   ]
  },
  {
   "cell_type": "markdown",
   "id": "8237a8fb",
   "metadata": {},
   "source": [
    "**Exercise 58:**\n",
    "\n",
    "Create a 3x3 NumPy array and rotate it by 90 degrees."
   ]
  },
  {
   "cell_type": "code",
   "execution_count": 136,
   "id": "71128dce",
   "metadata": {},
   "outputs": [
    {
     "data": {
      "text/plain": [
       "array([[ 2,  1,  2],\n",
       "       [ 5,  1,  3],\n",
       "       [ 4,  8, -6]])"
      ]
     },
     "execution_count": 136,
     "metadata": {},
     "output_type": "execute_result"
    }
   ],
   "source": [
    "array = np.random.randint(-10,10, size=(3,3))\n",
    "array"
   ]
  },
  {
   "cell_type": "code",
   "execution_count": 137,
   "id": "9431d0ab",
   "metadata": {},
   "outputs": [
    {
     "data": {
      "text/plain": [
       "array([[ 2,  3, -6],\n",
       "       [ 1,  1,  8],\n",
       "       [ 2,  5,  4]])"
      ]
     },
     "execution_count": 137,
     "metadata": {},
     "output_type": "execute_result"
    }
   ],
   "source": [
    "rotated = np.rot90(array)\n",
    "rotated"
   ]
  }
 ],
 "metadata": {
  "kernelspec": {
   "display_name": "Python 3",
   "language": "python",
   "name": "python3"
  },
  "language_info": {
   "codemirror_mode": {
    "name": "ipython",
    "version": 3
   },
   "file_extension": ".py",
   "mimetype": "text/x-python",
   "name": "python",
   "nbconvert_exporter": "python",
   "pygments_lexer": "ipython3",
   "version": "3.9.2"
  }
 },
 "nbformat": 4,
 "nbformat_minor": 5
}
