{
 "cells": [
  {
   "cell_type": "markdown",
   "id": "679ca74a",
   "metadata": {},
   "source": [
    "## PyPro: challenge 1"
   ]
  },
  {
   "cell_type": "markdown",
   "id": "124bbe51",
   "metadata": {},
   "source": [
    "1. Create a function find_max() that accepts two numeric inputs and returns the greater value. Avoid using the built-in max() function."
   ]
  },
  {
   "cell_type": "code",
   "execution_count": 8,
   "id": "3c4bea60",
   "metadata": {},
   "outputs": [
    {
     "name": "stdout",
     "output_type": "stream",
     "text": [
      "enter a value a: 4\n",
      "enter a value b: 5\n",
      "5.0 is greater than 4.0\n"
     ]
    }
   ],
   "source": [
    "def find_max(a, b):\n",
    "    if a < b:\n",
    "        print(b, 'is greater than', a)\n",
    "    elif a == b:\n",
    "        print(b, 'is equal to', a)\n",
    "    else:\n",
    "        print(a, 'is greater than', b)\n",
    "\n",
    "x = float(input(\"enter a value a: \"))\n",
    "y = float(input(\"enter a value b: \"))\n",
    "find_max(x, y)"
   ]
  },
  {
   "cell_type": "markdown",
   "id": "886b9672",
   "metadata": {},
   "source": [
    "2. Develop a function find_max_of_three() to find the maximum among three given numbers."
   ]
  },
  {
   "cell_type": "code",
   "execution_count": 7,
   "id": "f63739ed",
   "metadata": {},
   "outputs": [
    {
     "name": "stdout",
     "output_type": "stream",
     "text": [
      "enter a value a: 5\n",
      "enter a value b: 5\n",
      "enter a value c: 6\n",
      "6.0 is the maximum among the three numbers\n"
     ]
    }
   ],
   "source": [
    "def find_max_of_three(a, b, c):\n",
    "    if a <= b:\n",
    "        if b <= c:\n",
    "            print(c, 'is the maximum among the three numbers')\n",
    "        elif c <= b:\n",
    "            print(b, 'is the maximum among the three numbers')\n",
    "        elif c <= a:\n",
    "            print(a, 'is the maximum among the three')\n",
    "\n",
    "                \n",
    "x = float(input(\"enter a value a: \"))\n",
    "y = float(input(\"enter a value b: \"))\n",
    "z = float(input(\"enter a value c: \"))\n",
    "find_max_of_three(x, y, z)"
   ]
  },
  {
   "cell_type": "markdown",
   "id": "3a425635",
   "metadata": {},
   "source": [
    "3. Write a function to manually calculate the length of a given list or string without using len()."
   ]
  },
  {
   "cell_type": "code",
   "execution_count": 31,
   "id": "775c0900",
   "metadata": {},
   "outputs": [
    {
     "name": "stdout",
     "output_type": "stream",
     "text": [
      "10\n",
      "2\n"
     ]
    }
   ],
   "source": [
    "def length(string):\n",
    "    ln = 0\n",
    "    for letter in string:\n",
    "        ln += 1\n",
    "    print(ln)\n",
    "List = ['ok', 'ok']  \n",
    "string = 'calculates'\n",
    "length(string)\n",
    "length(List)"
   ]
  },
  {
   "cell_type": "markdown",
   "id": "d58bd4d9",
   "metadata": {},
   "source": [
    "4. Implement a function that checks if a given character is a vowel (a, e, i, o, u)."
   ]
  },
  {
   "cell_type": "code",
   "execution_count": 36,
   "id": "a80b9ead",
   "metadata": {},
   "outputs": [
    {
     "name": "stdout",
     "output_type": "stream",
     "text": [
      "enter a letter that you want to check: r\n",
      "r is not a vowel\n"
     ]
    },
    {
     "data": {
      "text/plain": [
       "False"
      ]
     },
     "execution_count": 36,
     "metadata": {},
     "output_type": "execute_result"
    }
   ],
   "source": [
    "def check(vowel):\n",
    "    List = ['a', 'e', 'i', 'o', 'u']\n",
    "    if vowel in List:\n",
    "        print(vowel, 'is a vowel')\n",
    "        return True\n",
    "    else:\n",
    "        print(vowel, 'is not a vowel')\n",
    "        return False\n",
    "\n",
    "vowel = input(\"enter a letter that you want to check: \")\n",
    "check(vowel)"
   ]
  },
  {
   "cell_type": "markdown",
   "id": "193e90af",
   "metadata": {},
   "source": [
    "5. Write a function encode() that converts a string into \"rövarspråket\" (robber's language) by doubling consonants and placing \"o\" in between, e.g., \"hello\" -> \"hohelollolo\".\n",
    "\n"
   ]
  },
  {
   "cell_type": "code",
   "execution_count": 73,
   "id": "a1e30e9a",
   "metadata": {},
   "outputs": [
    {
     "data": {
      "text/plain": [
       "'hohelollolo'"
      ]
     },
     "execution_count": 73,
     "metadata": {},
     "output_type": "execute_result"
    }
   ],
   "source": [
    "def encode(string):\n",
    "    List = ['a', 'e', 'i', 'o', 'u']\n",
    "    temp = ''\n",
    "    for letter in string:\n",
    "        if letter not in List:            \n",
    "            temp = temp + letter + 'o' + letter             \n",
    "        else:\n",
    "            temp2 = temp + letter\n",
    "            temp = temp2\n",
    "    return temp\n",
    "\n",
    "string = 'hello'\n",
    "encode(string)"
   ]
  },
  {
   "cell_type": "markdown",
   "id": "2ca52e38",
   "metadata": {},
   "source": [
    "6. Create sum_elements() and product_elements() functions to sum and multiply all elements in a list, respectively."
   ]
  },
  {
   "cell_type": "code",
   "execution_count": 77,
   "id": "081da680",
   "metadata": {},
   "outputs": [
    {
     "data": {
      "text/plain": [
       "(15, 120)"
      ]
     },
     "execution_count": 77,
     "metadata": {},
     "output_type": "execute_result"
    }
   ],
   "source": [
    "def sum_elements(lst):\n",
    "    sum_ = 0\n",
    "    for element in lst:\n",
    "        sum_ += element\n",
    "    return sum_\n",
    "\n",
    "def product_elements(lst):\n",
    "    prod = 1\n",
    "    for element in lst:\n",
    "        prod *= element\n",
    "        \n",
    "    return prod\n",
    "\n",
    "sum_elements([1, 2, 3, 4, 5]), product_elements([1, 2, 3, 4, 5])"
   ]
  },
  {
   "cell_type": "code",
   "execution_count": null,
   "id": "fb104eb9",
   "metadata": {},
   "outputs": [],
   "source": []
  }
 ],
 "metadata": {
  "kernelspec": {
   "display_name": "Python 3",
   "language": "python",
   "name": "python3"
  },
  "language_info": {
   "codemirror_mode": {
    "name": "ipython",
    "version": 3
   },
   "file_extension": ".py",
   "mimetype": "text/x-python",
   "name": "python",
   "nbconvert_exporter": "python",
   "pygments_lexer": "ipython3",
   "version": "3.9.2"
  }
 },
 "nbformat": 4,
 "nbformat_minor": 5
}
